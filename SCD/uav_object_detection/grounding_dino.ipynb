{
 "cells": [
  {
   "cell_type": "code",
   "execution_count": 1,
   "metadata": {},
   "outputs": [
    {
     "ename": "ModuleNotFoundError",
     "evalue": "No module named 'groundingdino'",
     "output_type": "error",
     "traceback": [
      "\u001b[0;31m---------------------------------------------------------------------------\u001b[0m",
      "\u001b[0;31mModuleNotFoundError\u001b[0m                       Traceback (most recent call last)",
      "Cell \u001b[0;32mIn[1], line 1\u001b[0m\n\u001b[0;32m----> 1\u001b[0m \u001b[38;5;28;01mfrom\u001b[39;00m \u001b[38;5;21;01mgroundingdino\u001b[39;00m\u001b[38;5;21;01m.\u001b[39;00m\u001b[38;5;21;01mutil\u001b[39;00m\u001b[38;5;21;01m.\u001b[39;00m\u001b[38;5;21;01minference\u001b[39;00m \u001b[38;5;28;01mimport\u001b[39;00m load_model, load_image, predict, annotate\n\u001b[1;32m      2\u001b[0m \u001b[38;5;28;01mimport\u001b[39;00m \u001b[38;5;21;01mcv2\u001b[39;00m\n\u001b[1;32m      4\u001b[0m model \u001b[38;5;241m=\u001b[39m load_model(\u001b[38;5;124m\"\u001b[39m\u001b[38;5;124m/home/wpals113/GroundingDINO/groundingdino/config/GroundingDINO_SwinB_cfg.py\u001b[39m\u001b[38;5;124m\"\u001b[39m, \u001b[38;5;124m\"\u001b[39m\u001b[38;5;124m/home/wpals113/GroundingDINO/weights/groundingdino_swinb_cogcoor.pth\u001b[39m\u001b[38;5;124m\"\u001b[39m)\n",
      "\u001b[0;31mModuleNotFoundError\u001b[0m: No module named 'groundingdino'"
     ]
    }
   ],
   "source": [
    "from groundingdino.util.inference import load_model, load_image, predict, annotate\n",
    "import cv2\n",
    "\n",
    "model = load_model(\"/home/wpals113/GroundingDINO/groundingdino/config/GroundingDINO_SwinB_cfg.py\", \"/home/wpals113/GroundingDINO/weights/groundingdino_swinb_cogcoor.pth\")\n",
    "IMAGE_PATH = \"/workspace/Laboratory/02.Rapid3DReconstruction/01.data/LEVIR-CD/test/B/test_5.png\"\n",
    "# TEXT_PROMPT = \"objects . grass . puddle . rocks .\"\n",
    "TEXT_PROMPT = \"buildings .\"\n",
    "BOX_TRESHOLD = 0.3\n",
    "TEXT_TRESHOLD = 0.25\n",
    "\n",
    "image_source, image = load_image(IMAGE_PATH)\n",
    "\n",
    "boxes, logits, phrases = predict(\n",
    "    model=model,\n",
    "    image=image,\n",
    "    caption=TEXT_PROMPT,\n",
    "    box_threshold=BOX_TRESHOLD,\n",
    "    text_threshold=TEXT_TRESHOLD\n",
    ")\n",
    "\n",
    "annotated_frame = annotate(image_source=image_source, boxes=boxes, logits=logits, phrases=phrases)\n",
    "cv2.imwrite(\"/workspace/Laboratory/02.Rapid3DReconstruction/00.workspace/ChangeDetection_workspace/object_detection/test_output/annotated_image.png\", annotated_frame)"
   ]
  },
  {
   "cell_type": "code",
   "execution_count": 9,
   "metadata": {},
   "outputs": [
    {
     "name": "stdout",
     "output_type": "stream",
     "text": [
      "final text_encoder_type: bert-base-uncased\n"
     ]
    },
    {
     "data": {
      "text/plain": [
       "True"
      ]
     },
     "execution_count": 9,
     "metadata": {},
     "output_type": "execute_result"
    }
   ],
   "source": [
    "from groundingdino.util.inference import load_model, load_image, predict, annotate\n",
    "import cv2\n",
    "\n",
    "model = load_model(\"/home/wpals113/GroundingDINO/groundingdino/config/GroundingDINO_SwinB_cfg.py\", \"/home/wpals113/GroundingDINO/weights/groundingdino_swinb_cogcoor.pth\")\n",
    "IMAGE_PATH = \"/workspace/Laboratory/02.Rapid3DReconstruction/00.workspace/ChangeDetection_workspace/new/rectified/new_images/frame_00100.jpg\"\n",
    "TEXT_PROMPT = \"objects . puddle . grass .\"\n",
    "BOX_TRESHOLD = 0.25\n",
    "TEXT_TRESHOLD = 0.25\n",
    "\n",
    "image_source, image = load_image(IMAGE_PATH)\n",
    " \n",
    "boxes, logits, phrases = predict(\n",
    "    model=model,\n",
    "    image=image,\n",
    "    caption=TEXT_PROMPT,\n",
    "    box_threshold=BOX_TRESHOLD,\n",
    "    text_threshold=TEXT_TRESHOLD\n",
    ")\n",
    "\n",
    "annotated_frame = annotate(image_source=image_source, boxes=boxes, logits=logits, phrases=phrases)\n",
    "cv2.imwrite(\"/workspace/Laboratory/02.Rapid3DReconstruction/00.workspace/ChangeDetection_workspace/object_detection/test_output/annotated_image.png\", annotated_frame)"
   ]
  },
  {
   "cell_type": "code",
   "execution_count": 55,
   "metadata": {},
   "outputs": [
    {
     "name": "stdout",
     "output_type": "stream",
     "text": [
      "final text_encoder_type: bert-base-uncased\n"
     ]
    },
    {
     "name": "stderr",
     "output_type": "stream",
     "text": [
      "A parameter name that contains `beta` will be renamed internally to `bias`. Please use a different name to suppress this warning.\n",
      "A parameter name that contains `gamma` will be renamed internally to `weight`. Please use a different name to suppress this warning.\n",
      "A parameter name that contains `beta` will be renamed internally to `bias`. Please use a different name to suppress this warning.\n",
      "A parameter name that contains `gamma` will be renamed internally to `weight`. Please use a different name to suppress this warning.\n",
      "A parameter name that contains `beta` will be renamed internally to `bias`. Please use a different name to suppress this warning.\n",
      "A parameter name that contains `gamma` will be renamed internally to `weight`. Please use a different name to suppress this warning.\n",
      "A parameter name that contains `beta` will be renamed internally to `bias`. Please use a different name to suppress this warning.\n",
      "A parameter name that contains `gamma` will be renamed internally to `weight`. Please use a different name to suppress this warning.\n",
      "A parameter name that contains `beta` will be renamed internally to `bias`. Please use a different name to suppress this warning.\n",
      "A parameter name that contains `gamma` will be renamed internally to `weight`. Please use a different name to suppress this warning.\n",
      "A parameter name that contains `beta` will be renamed internally to `bias`. Please use a different name to suppress this warning.\n",
      "A parameter name that contains `gamma` will be renamed internally to `weight`. Please use a different name to suppress this warning.\n",
      "A parameter name that contains `beta` will be renamed internally to `bias`. Please use a different name to suppress this warning.\n",
      "A parameter name that contains `gamma` will be renamed internally to `weight`. Please use a different name to suppress this warning.\n",
      "A parameter name that contains `beta` will be renamed internally to `bias`. Please use a different name to suppress this warning.\n",
      "A parameter name that contains `gamma` will be renamed internally to `weight`. Please use a different name to suppress this warning.\n",
      "A parameter name that contains `beta` will be renamed internally to `bias`. Please use a different name to suppress this warning.\n",
      "A parameter name that contains `gamma` will be renamed internally to `weight`. Please use a different name to suppress this warning.\n",
      "A parameter name that contains `beta` will be renamed internally to `bias`. Please use a different name to suppress this warning.\n",
      "A parameter name that contains `gamma` will be renamed internally to `weight`. Please use a different name to suppress this warning.\n",
      "A parameter name that contains `beta` will be renamed internally to `bias`. Please use a different name to suppress this warning.\n",
      "A parameter name that contains `gamma` will be renamed internally to `weight`. Please use a different name to suppress this warning.\n",
      "A parameter name that contains `beta` will be renamed internally to `bias`. Please use a different name to suppress this warning.\n",
      "A parameter name that contains `gamma` will be renamed internally to `weight`. Please use a different name to suppress this warning.\n",
      "A parameter name that contains `beta` will be renamed internally to `bias`. Please use a different name to suppress this warning.\n",
      "A parameter name that contains `gamma` will be renamed internally to `weight`. Please use a different name to suppress this warning.\n",
      "A parameter name that contains `beta` will be renamed internally to `bias`. Please use a different name to suppress this warning.\n",
      "A parameter name that contains `gamma` will be renamed internally to `weight`. Please use a different name to suppress this warning.\n",
      "A parameter name that contains `beta` will be renamed internally to `bias`. Please use a different name to suppress this warning.\n",
      "A parameter name that contains `gamma` will be renamed internally to `weight`. Please use a different name to suppress this warning.\n",
      "A parameter name that contains `beta` will be renamed internally to `bias`. Please use a different name to suppress this warning.\n",
      "A parameter name that contains `gamma` will be renamed internally to `weight`. Please use a different name to suppress this warning.\n",
      "A parameter name that contains `beta` will be renamed internally to `bias`. Please use a different name to suppress this warning.\n",
      "A parameter name that contains `gamma` will be renamed internally to `weight`. Please use a different name to suppress this warning.\n",
      "A parameter name that contains `beta` will be renamed internally to `bias`. Please use a different name to suppress this warning.\n",
      "A parameter name that contains `gamma` will be renamed internally to `weight`. Please use a different name to suppress this warning.\n",
      "A parameter name that contains `beta` will be renamed internally to `bias`. Please use a different name to suppress this warning.\n",
      "A parameter name that contains `gamma` will be renamed internally to `weight`. Please use a different name to suppress this warning.\n",
      "A parameter name that contains `beta` will be renamed internally to `bias`. Please use a different name to suppress this warning.\n",
      "A parameter name that contains `gamma` will be renamed internally to `weight`. Please use a different name to suppress this warning.\n",
      "A parameter name that contains `beta` will be renamed internally to `bias`. Please use a different name to suppress this warning.\n",
      "A parameter name that contains `gamma` will be renamed internally to `weight`. Please use a different name to suppress this warning.\n",
      "A parameter name that contains `beta` will be renamed internally to `bias`. Please use a different name to suppress this warning.\n",
      "A parameter name that contains `gamma` will be renamed internally to `weight`. Please use a different name to suppress this warning.\n",
      "A parameter name that contains `beta` will be renamed internally to `bias`. Please use a different name to suppress this warning.\n",
      "A parameter name that contains `gamma` will be renamed internally to `weight`. Please use a different name to suppress this warning.\n",
      "A parameter name that contains `beta` will be renamed internally to `bias`. Please use a different name to suppress this warning.\n",
      "A parameter name that contains `gamma` will be renamed internally to `weight`. Please use a different name to suppress this warning.\n",
      "A parameter name that contains `beta` will be renamed internally to `bias`. Please use a different name to suppress this warning.\n",
      "A parameter name that contains `gamma` will be renamed internally to `weight`. Please use a different name to suppress this warning.\n",
      "A parameter name that contains `beta` will be renamed internally to `bias`. Please use a different name to suppress this warning.\n",
      "A parameter name that contains `gamma` will be renamed internally to `weight`. Please use a different name to suppress this warning.\n"
     ]
    }
   ],
   "source": [
    "import os\n",
    "import cv2\n",
    "from groundingdino.util.inference import load_model, load_image, predict, annotate\n",
    "\n",
    "def process_images(image_dir, output_dir, label_dir, model, text_prompt, box_threshold=0.25, text_threshold=0.25):\n",
    "    \"\"\"\n",
    "    Iterates over the image directory, detects objects using GroundingDINO, and saves the result images and label files.\n",
    "\n",
    "    Args:\n",
    "    - image_dir (str): Input image directory path.\n",
    "    - output_dir (str): Directory path to save the result images.\n",
    "    - label_dir (str): Directory path to save YOLO format label files.\n",
    "    - model: GroundingDINO model object.\n",
    "    - text_prompt (str): Text prompt for object detection.\n",
    "    - box_threshold (float): Bounding box threshold.\n",
    "    - text_threshold (float): Text matching threshold.\n",
    "    \"\"\"\n",
    "    # Create output directories if they don't exist\n",
    "    os.makedirs(output_dir, exist_ok=True)\n",
    "    os.makedirs(label_dir, exist_ok=True)\n",
    "\n",
    "    # Iterate through image files\n",
    "    for image_file in os.listdir(image_dir):\n",
    "        if image_file.endswith(\".png\") or image_file.endswith(\".jpg\"):\n",
    "            image_path = os.path.join(image_dir, image_file)\n",
    "\n",
    "            # Load image and make predictions\n",
    "            image_source, image = load_image(image_path)\n",
    "            boxes, logits, phrases = predict(\n",
    "                model=model,\n",
    "                image=image,\n",
    "                caption=text_prompt,\n",
    "                box_threshold=box_threshold,\n",
    "                text_threshold=text_threshold\n",
    "            )\n",
    "\n",
    "            # Annotate the detected objects on the image\n",
    "            annotated_frame = annotate(image_source=image_source, boxes=boxes, logits=logits, phrases=phrases)\n",
    "            \n",
    "            # Save the result image\n",
    "            result_image_path = os.path.join(output_dir, image_file)\n",
    "            cv2.imwrite(result_image_path, annotated_frame)\n",
    "\n",
    "            # Save the label file (YOLO format)\n",
    "            label_file_path = os.path.join(label_dir, f\"{os.path.splitext(image_file)[0]}.txt\")\n",
    "            with open(label_file_path, \"w\") as label_file:\n",
    "                for i, box in enumerate(boxes):\n",
    "                    # YOLO format: class ID, center coordinates (x_center, y_center), width, height\n",
    "                    class_id = i  # Optionally, you can assign class ID based on phrases.\n",
    "                    x_center = (box[0] + box[2]) / 2.0 / image.shape[1]\n",
    "                    y_center = (box[1] + box[3]) / 2.0 / image.shape[0]\n",
    "                    width = (box[2] - box[0]) / image.shape[1]\n",
    "                    height = (box[3] - box[1]) / image.shape[0]\n",
    "                    score = logits[i]  # Confidence score (optional)\n",
    "\n",
    "                    # Write to label file in YOLO format\n",
    "                    label_file.write(f\"{class_id} {x_center:.4f} {y_center:.4f} {width:.4f} {height:.4f} {score:.4f}\\n\")\n",
    "\n",
    "\n",
    "def main():\n",
    "    # Load the model and set the paths\n",
    "    model = load_model(\n",
    "        \"/data/wpals113/Github/GroundingDINO/groundingdino/config/GroundingDINO_SwinB_cfg.py\", \n",
    "        \"/data/wpals113/Github/GroundingDINO/weights/groundingdino_swinb_cogcoor.pth\"\n",
    "    )\n",
    "\n",
    "    # Set directory paths\n",
    "    image_dir = \"/data/wpals113/workspace/Laboratory/02.Rapid3DReconstruction/00.workspace/ChangeDetection_workspace/new/rectified/new_images\"\n",
    "    output_dir = \"/data/wpals113/workspace/Laboratory/02.Rapid3DReconstruction/00.workspace/ChangeDetection_workspace/object_detection/GroundingDino_outputs/new_images\"\n",
    "    label_dir = \"/data/wpals113/workspace/Laboratory/02.Rapid3DReconstruction/00.workspace/ChangeDetection_workspace/object_detection/GroundingDino_outputs/new_pred\"\n",
    "    text_prompt = \"objects . puddle .\"\n",
    "\n",
    "    # Call the image processing function\n",
    "    process_images(image_dir, output_dir, label_dir, model, text_prompt)\n",
    "\n",
    "\n",
    "if __name__ == \"__main__\":\n",
    "    main()\n"
   ]
  }
 ],
 "metadata": {
  "kernelspec": {
   "display_name": "ChangeDetection",
   "language": "python",
   "name": "python3"
  },
  "language_info": {
   "codemirror_mode": {
    "name": "ipython",
    "version": 3
   },
   "file_extension": ".py",
   "mimetype": "text/x-python",
   "name": "python",
   "nbconvert_exporter": "python",
   "pygments_lexer": "ipython3",
   "version": "3.8.20"
  }
 },
 "nbformat": 4,
 "nbformat_minor": 2
}
