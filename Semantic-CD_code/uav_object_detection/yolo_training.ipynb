{
 "cells": [
  {
   "cell_type": "code",
   "execution_count": 1,
   "metadata": {},
   "outputs": [
    {
     "name": "stdout",
     "output_type": "stream",
     "text": [
      "✅ Split complete: 200 train, 37 val, 14 test\n",
      "📄 New data.yaml saved to: /workspace/Data/240617_NajooGwangjoo/object_detection_dataset/earthwork_90m_nerf_cd_pair/split/data.yaml\n"
     ]
    }
   ],
   "source": [
    "import os\n",
    "import shutil\n",
    "import random\n",
    "import yaml\n",
    "\n",
    "def split_dataset_with_yaml(original_dataset_dir, output_dataset_dir, original_yaml_path,\n",
    "                             train_ratio=0.8, val_ratio=0.15, test_ratio=0.05, seed=42):\n",
    "    random.seed(seed)\n",
    "\n",
    "    images_dir = os.path.join(original_dataset_dir, \"images\")\n",
    "    labels_dir = os.path.join(original_dataset_dir, \"labels\")\n",
    "\n",
    "    image_files = [f for f in os.listdir(images_dir) if f.endswith(('.jpg', '.jpeg', '.png'))]\n",
    "    image_files.sort()\n",
    "    random.shuffle(image_files)\n",
    "\n",
    "    n_total = len(image_files)\n",
    "    n_train = int(n_total * train_ratio)\n",
    "    n_val = int(n_total * val_ratio)\n",
    "\n",
    "    train_files = image_files[:n_train]\n",
    "    val_files = image_files[n_train:n_train + n_val]\n",
    "    test_files = image_files[n_train + n_val:]\n",
    "\n",
    "    def copy_files(subset_name, files):\n",
    "        subset_img_dir = os.path.join(output_dataset_dir, subset_name, \"images\")\n",
    "        subset_lbl_dir = os.path.join(output_dataset_dir, subset_name, \"labels\")\n",
    "        os.makedirs(subset_img_dir, exist_ok=True)\n",
    "        os.makedirs(subset_lbl_dir, exist_ok=True)\n",
    "\n",
    "        for fname in files:\n",
    "            shutil.copy(os.path.join(images_dir, fname), os.path.join(subset_img_dir, fname))\n",
    "            label_name = os.path.splitext(fname)[0] + \".txt\"\n",
    "            label_path = os.path.join(labels_dir, label_name)\n",
    "            if os.path.exists(label_path):\n",
    "                shutil.copy(label_path, os.path.join(subset_lbl_dir, label_name))\n",
    "\n",
    "    copy_files(\"train\", train_files)\n",
    "    copy_files(\"val\", val_files)\n",
    "    copy_files(\"test\", test_files)\n",
    "\n",
    "    # 원래 data.yaml 읽기\n",
    "    with open(original_yaml_path, 'r') as f:\n",
    "        data_yaml = yaml.safe_load(f)\n",
    "\n",
    "    class_dict = {\n",
    "    \"concrete pipe\": \"materials\",\n",
    "    \"concrete structure\": \"structure\",\n",
    "    \"man-made structure\": \"structure\",\n",
    "    \"equipments\": \"equipment\",\n",
    "    \"equipment\": \"equipment\",\n",
    "    \"crane\": \"equipment\",\n",
    "    \"materials\": \"materials\",\n",
    "    \"materials package\": \"materials\",\n",
    "    \"rocks\": \"materials\",\n",
    "    \"steel package\": \"materials\",\n",
    "    \"textile\": \"others\"\n",
    "}\n",
    "    # 새 경로로 수정\n",
    "    new_yaml = {\n",
    "        'train': os.path.join(output_dataset_dir, 'train', 'images'),\n",
    "        'val': os.path.join(output_dataset_dir, 'val', 'images'),\n",
    "        'test': os.path.join(output_dataset_dir, 'test', 'images'),\n",
    "        'nc': data_yaml.get('nc'),\n",
    "        'names': data_yaml.get('names'),\n",
    "        'class_dict': class_dict\n",
    "    }\n",
    "\n",
    "    new_yaml_path = os.path.join(output_dataset_dir, 'data.yaml')\n",
    "    with open(new_yaml_path, 'w') as f:\n",
    "        yaml.dump(new_yaml, f)\n",
    "\n",
    "    print(f\"✅ Split complete: {len(train_files)} train, {len(val_files)} val, {len(test_files)} test\")\n",
    "    print(f\"📄 New data.yaml saved to: {new_yaml_path}\")\n",
    "    return new_yaml_path\n",
    "\n",
    "# 사용 예시\n",
    "base_dir = \"/workspace/Data/240617_NajooGwangjoo/object_detection_dataset/earthwork_90m_nerf_cd_pair\"\n",
    "original_dataset = os.path.join(base_dir, \"raw/train\")\n",
    "original_yaml = os.path.join(base_dir, \"raw/data.yaml\")\n",
    "output_dataset = os.path.join(base_dir, \"split\")\n",
    "\n",
    "\n",
    "new_yaml_path = split_dataset_with_yaml(original_dataset, output_dataset, original_yaml)\n"
   ]
  },
  {
   "cell_type": "code",
   "execution_count": 2,
   "metadata": {},
   "outputs": [
    {
     "name": "stdout",
     "output_type": "stream",
     "text": [
      "/workspace/Data/Sintanjin/240607_240726_Sintanjin/objectdetection_dataset/earthwork_80m_nerf_cd_pair_gps/split/train/images\n"
     ]
    },
    {
     "name": "stderr",
     "output_type": "stream",
     "text": [
      "Processing train set: 100%|██████████| 68/68 [00:14<00:00,  4.68it/s]\n"
     ]
    },
    {
     "name": "stdout",
     "output_type": "stream",
     "text": [
      "/workspace/Data/Sintanjin/240607_240726_Sintanjin/objectdetection_dataset/earthwork_80m_nerf_cd_pair_gps/split/val/images\n"
     ]
    },
    {
     "name": "stderr",
     "output_type": "stream",
     "text": [
      "Processing val set: 100%|██████████| 12/12 [00:02<00:00,  4.86it/s]\n"
     ]
    },
    {
     "name": "stdout",
     "output_type": "stream",
     "text": [
      "/workspace/Data/Sintanjin/240607_240726_Sintanjin/objectdetection_dataset/earthwork_80m_nerf_cd_pair_gps/split/test/images\n"
     ]
    },
    {
     "name": "stderr",
     "output_type": "stream",
     "text": [
      "Processing test set: 100%|██████████| 6/6 [00:01<00:00,  4.31it/s]\n"
     ]
    }
   ],
   "source": [
    "# crop image generation for sliding window\n",
    "import os\n",
    "import cv2\n",
    "import yaml\n",
    "import shutil\n",
    "import numpy as np\n",
    "from tqdm import tqdm\n",
    "\n",
    "def sliding_window(image, step_size, window_size):\n",
    "    \"\"\"Sliding window generator with adjusted step size for edges.\"\"\"\n",
    "    h, w, _ = image.shape\n",
    "    window_h, window_w = window_size\n",
    "\n",
    "    for y in range(0, h - window_h + 1, step_size):\n",
    "        for x in range(0, w - window_w + 1, step_size):\n",
    "            yield x, y, image[y:y + window_h, x:x + window_w]\n",
    "\n",
    "    # Handle the last window that may not fit within the current step size\n",
    "    if (h - window_h) % step_size != 0:  # If there's space left in the vertical direction        \n",
    "        y = h - window_h\n",
    "        for x in range(0, w - window_w + 1, step_size):\n",
    "            yield x, y, image[y:y + window_h, x:x + window_w]\n",
    "\n",
    "    if (w - window_w) % step_size != 0:  # If there's space left in the horizontal direction                \n",
    "        x = w - window_w\n",
    "        for y in range(0, h - window_h + 1, step_size):\n",
    "            yield x, y, image[y:y + window_h, x:x + window_w]\n",
    "\n",
    "    # Handle the very last corner if step_size is larger than remaining space\n",
    "    if (h - window_h) % step_size != 0 and (w - window_w) % step_size != 0:\n",
    "        yield w - window_w, h - window_h, image[h - window_h:h, w - window_w:w]\n",
    "\n",
    "def update_labels(label_path, x_offset, y_offset, window_size, img_shape, exclude_classes=[]):\n",
    "    \"\"\"Adjust bounding boxes for the cropped image, excluding specified classes.\"\"\"\n",
    "    updated_labels = []\n",
    "    if os.path.exists(label_path):\n",
    "        with open(label_path, 'r') as f:\n",
    "            lines = f.readlines()\n",
    "        for line in lines:\n",
    "            parts = line.strip().split()\n",
    "            cls, x_center, y_center, w, h = map(float, parts)\n",
    "            if int(cls) in exclude_classes:\n",
    "                continue  # Exclude specified classes\n",
    "            x_center, y_center = x_center * img_shape[1], y_center * img_shape[0]\n",
    "            w, h = w * img_shape[1], h * img_shape[0]\n",
    "            \n",
    "            x1, y1, x2, y2 = x_center - w / 2, y_center - h / 2, x_center + w / 2, y_center + h / 2\n",
    "            \n",
    "            x1 = max(x1, x_offset)\n",
    "            y1 = max(y1, y_offset)\n",
    "            x2 = min(x2, x_offset + window_size[0])\n",
    "            y2 = min(y2, y_offset + window_size[1])\n",
    "            \n",
    "            if x2 > x1 and y2 > y1:\n",
    "                x_new = ((x1 + x2) / 2 - x_offset) / window_size[0]\n",
    "                y_new = ((y1 + y2) / 2 - y_offset) / window_size[1]\n",
    "                w_new = (x2 - x1) / window_size[0]\n",
    "                h_new = (y2 - y1) / window_size[1]\n",
    "                updated_labels.append(f\"{int(cls)} {x_new} {y_new} {w_new} {h_new}\\n\")\n",
    "    return updated_labels\n",
    "\n",
    "def preprocess_dataset(dataset_yaml, output_dir, reference_height = 2160, reference_altitude = 90, altitude = 90, step_ratio=0.5, exclude_classes=[]):\n",
    "    \"\"\"Process dataset images using sliding window and save cropped images/labels.\"\"\"\n",
    "\n",
    "    with open(dataset_yaml, 'r') as f:\n",
    "        data_config = yaml.safe_load(f)\n",
    "\n",
    "    # data.yaml이 위치한 디렉토리\n",
    "    yaml_dir = os.path.dirname(os.path.abspath(dataset_yaml))    \n",
    "    \n",
    "    for split in ['train', 'val', 'test']:        \n",
    "        rel_img_path = data_config[split]\n",
    "\n",
    "        if not os.path.isabs(rel_img_path):\n",
    "            # 상대경로인 경우\n",
    "            img_dir = os.path.abspath(os.path.join(yaml_dir, rel_img_path))\n",
    "        else:\n",
    "            # 절대경로인 경우 그대로 사용\n",
    "            img_dir = rel_img_path\n",
    "\n",
    "        print(img_dir)\n",
    "\n",
    "        output_img_dir = os.path.join(output_dir, split, 'images')\n",
    "        output_label_dir = os.path.join(output_dir, split, 'labels')\n",
    "        os.makedirs(output_img_dir, exist_ok=True)\n",
    "        os.makedirs(output_label_dir, exist_ok=True)\n",
    "        \n",
    "        \n",
    "        for img_name in tqdm(os.listdir(img_dir), desc=f\"Processing {split} set\"):\n",
    "            \n",
    "            img_path = os.path.join(img_dir, img_name)\n",
    "            parent_dir = os.path.dirname(img_dir)\n",
    "            dir_name = os.path.basename(img_dir)            \n",
    "\n",
    "            label_dir = os.path.join(parent_dir, dir_name.replace('images', 'labels'))\n",
    "            label_path = os.path.join(label_dir, img_name.replace('.jpg', '.txt'))\n",
    "            img = cv2.imread(img_path)\n",
    "            \n",
    "            if img is None:\n",
    "                continue\n",
    "                        \n",
    "            img_height = img.shape[0]\n",
    "            window_size = int(640 * img_height / reference_height * reference_altitude / altitude)\n",
    "            window_shape = (window_size, window_size)\n",
    "            step_size = int(window_size * step_ratio)\n",
    "            \n",
    "            for idx, (x, y, window) in enumerate(sliding_window(img, step_size, window_shape)):\n",
    "                crop_name = f\"{os.path.splitext(img_name)[0]}_{idx}.jpg\"\n",
    "                crop_label_name = crop_name.replace('.jpg', '.txt')                                \n",
    "                cv2.imwrite(os.path.join(output_img_dir, crop_name), window)\n",
    "\n",
    "                updated_labels = update_labels(label_path, x, y, window_shape, img.shape, exclude_classes)\n",
    "                if updated_labels:\n",
    "                    with open(os.path.join(output_label_dir, crop_label_name), 'w') as f:\n",
    "                        f.writelines(updated_labels)\n",
    "    \n",
    "    new_yaml = {\n",
    "        'train': os.path.join(output_dir, 'train', 'images'),\n",
    "        'val': os.path.join(output_dir, 'val', 'images'),\n",
    "        'test': os.path.join(output_dir, 'test', 'images'),\n",
    "        'nc': data_config['nc'],\n",
    "        'names': data_config['names']\n",
    "    }\n",
    "    with open(os.path.join(output_dir, 'data.yaml'), 'w') as f:\n",
    "        yaml.dump(new_yaml, f)\n",
    "    \n",
    "    return os.path.join(output_dir, 'data.yaml')\n",
    "\n",
    "\n",
    "# 원본 데이터셋 경로 및 새로운 데이터셋 경로\n",
    "data_yaml = \"/workspace/Data/Sintanjin/240607_240726_Sintanjin/objectdetection_dataset/earthwork_80m_nerf_cd_pair_gps/split/data.yaml\"\n",
    "output_dir = \"/workspace/Data/Sintanjin/240607_240726_Sintanjin/objectdetection_dataset/earthwork_80m_nerf_cd_pair_gps/crop\"\n",
    "\n",
    "# 제외할 클래스 지정 (예: 'human' 클래스가 0번일 경우)\n",
    "exclude_classes = []\n",
    "\n",
    "altitude = 80\n",
    "\n",
    "\n",
    "# 데이터 전처리 실행\n",
    "if os.path.exists(output_dir) and os.path.isdir(output_dir):\n",
    "    print(f\"[Info] '{output_dir}' already exists. Skipping preprocessing.\")\n",
    "    new_yaml_path = os.path.join(output_dir, 'data.yaml')  # 기존 yaml 경로 지정\n",
    "\n",
    "else:\n",
    "    new_yaml_path = preprocess_dataset(\n",
    "        data_yaml,\n",
    "        output_dir,\n",
    "        altitude = altitude,\n",
    "        exclude_classes=exclude_classes\n",
    "    )"
   ]
  },
  {
   "cell_type": "code",
   "execution_count": 6,
   "metadata": {},
   "outputs": [
    {
     "name": "stdout",
     "output_type": "stream",
     "text": [
      "New https://pypi.org/project/ultralytics/8.3.155 available 😃 Update with 'pip install -U ultralytics'\n",
      "Ultralytics 8.3.38 🚀 Python-3.8.20 torch-2.1.0+cu118 CUDA:0 (NVIDIA RTX A6000, 48570MiB)\n",
      "                                                      CUDA:1 (NVIDIA RTX A6000, 48561MiB)\n",
      "\u001b[34m\u001b[1mengine/trainer: \u001b[0mtask=detect, mode=train, model=/workspace/Laboratory/04.model/yolo/yolo11x.pt, data=/workspace/Data/240617_NajooGwangjoo/object_detection_dataset/earthwork_90m_nerf_cd_pair/split/data.yaml, epochs=100, time=None, patience=100, batch=16, imgsz=1280, save=True, save_period=-1, cache=False, device=[0, 1], workers=8, project=/workspace/Laboratory/02.Rapid3DReconstruction/00.workspace/Naju_90m_ChangeDetection_workspace/trial5/YOLO, name=full_1280, exist_ok=False, pretrained=True, optimizer=auto, verbose=True, seed=0, deterministic=True, single_cls=False, rect=False, cos_lr=False, close_mosaic=10, resume=False, amp=True, fraction=1.0, profile=False, freeze=None, multi_scale=False, overlap_mask=True, mask_ratio=4, dropout=0.0, val=True, split=val, save_json=False, save_hybrid=False, conf=None, iou=0.7, max_det=300, half=False, dnn=False, plots=True, source=None, vid_stride=1, stream_buffer=False, visualize=False, augment=False, agnostic_nms=False, classes=None, retina_masks=False, embed=None, show=False, save_frames=False, save_txt=False, save_conf=False, save_crop=False, show_labels=True, show_conf=True, show_boxes=True, line_width=None, format=torchscript, keras=False, optimize=False, int8=False, dynamic=False, simplify=True, opset=None, workspace=None, nms=False, lr0=0.01, lrf=0.01, momentum=0.937, weight_decay=0.0005, warmup_epochs=3.0, warmup_momentum=0.8, warmup_bias_lr=0.1, box=7.5, cls=0.5, dfl=1.5, pose=12.0, kobj=1.0, nbs=64, hsv_h=0.015, hsv_s=0.7, hsv_v=0.4, degrees=0.0, translate=0.1, scale=0.5, shear=0.0, perspective=0.0, flipud=0.0, fliplr=0.5, bgr=0.0, mosaic=1.0, mixup=0.0, copy_paste=0.0, copy_paste_mode=flip, auto_augment=randaugment, erasing=0.4, crop_fraction=1.0, cfg=None, tracker=botsort.yaml, save_dir=/workspace/Laboratory/02.Rapid3DReconstruction/00.workspace/Naju_90m_ChangeDetection_workspace/trial5/YOLO/full_1280\n",
      "Overriding model.yaml nc=80 with nc=12\n",
      "\n",
      "                   from  n    params  module                                       arguments                     \n",
      "  0                  -1  1      2784  ultralytics.nn.modules.conv.Conv             [3, 96, 3, 2]                 \n",
      "  1                  -1  1    166272  ultralytics.nn.modules.conv.Conv             [96, 192, 3, 2]               \n",
      "  2                  -1  2    389760  ultralytics.nn.modules.block.C3k2            [192, 384, 2, True, 0.25]     \n",
      "  3                  -1  1   1327872  ultralytics.nn.modules.conv.Conv             [384, 384, 3, 2]              \n",
      "  4                  -1  2   1553664  ultralytics.nn.modules.block.C3k2            [384, 768, 2, True, 0.25]     \n",
      "  5                  -1  1   5309952  ultralytics.nn.modules.conv.Conv             [768, 768, 3, 2]              \n",
      "  6                  -1  2   5022720  ultralytics.nn.modules.block.C3k2            [768, 768, 2, True]           \n",
      "  7                  -1  1   5309952  ultralytics.nn.modules.conv.Conv             [768, 768, 3, 2]              \n",
      "  8                  -1  2   5022720  ultralytics.nn.modules.block.C3k2            [768, 768, 2, True]           \n",
      "  9                  -1  1   1476864  ultralytics.nn.modules.block.SPPF            [768, 768, 5]                 \n",
      " 10                  -1  2   3264768  ultralytics.nn.modules.block.C2PSA           [768, 768, 2]                 \n",
      " 11                  -1  1         0  torch.nn.modules.upsampling.Upsample         [None, 2, 'nearest']          \n",
      " 12             [-1, 6]  1         0  ultralytics.nn.modules.conv.Concat           [1]                           \n",
      " 13                  -1  2   5612544  ultralytics.nn.modules.block.C3k2            [1536, 768, 2, True]          \n",
      " 14                  -1  1         0  torch.nn.modules.upsampling.Upsample         [None, 2, 'nearest']          \n",
      " 15             [-1, 4]  1         0  ultralytics.nn.modules.conv.Concat           [1]                           \n",
      " 16                  -1  2   1700352  ultralytics.nn.modules.block.C3k2            [1536, 384, 2, True]          \n",
      " 17                  -1  1   1327872  ultralytics.nn.modules.conv.Conv             [384, 384, 3, 2]              \n",
      " 18            [-1, 13]  1         0  ultralytics.nn.modules.conv.Concat           [1]                           \n",
      " 19                  -1  2   5317632  ultralytics.nn.modules.block.C3k2            [1152, 768, 2, True]          \n",
      " 20                  -1  1   5309952  ultralytics.nn.modules.conv.Conv             [768, 768, 3, 2]              \n",
      " 21            [-1, 10]  1         0  ultralytics.nn.modules.conv.Concat           [1]                           \n",
      " 22                  -1  2   5612544  ultralytics.nn.modules.block.C3k2            [1536, 768, 2, True]          \n",
      " 23        [16, 19, 22]  1   3159412  ultralytics.nn.modules.head.Detect           [12, [384, 768, 768]]         \n",
      "YOLO11x summary: 631 layers, 56,887,636 parameters, 56,887,620 gradients, 195.5 GFLOPs\n",
      "\n",
      "Transferred 1009/1015 items from pretrained weights\n",
      "\u001b[34m\u001b[1mDDP:\u001b[0m debug command /home/wpals113/.conda/envs/grounded-cd/bin/python -m torch.distributed.run --nproc_per_node 2 --master_port 36409 /home/wpals113/.config/Ultralytics/DDP/_temp_c72ift2z140567839312528.py\n",
      "Ultralytics 8.3.38 🚀 Python-3.8.20 torch-2.1.0+cu118 CUDA:0 (NVIDIA RTX A6000, 48570MiB)\n",
      "                                                      CUDA:1 (NVIDIA RTX A6000, 48561MiB)\n",
      "Overriding model.yaml nc=80 with nc=12\n",
      "Transferred 1009/1015 items from pretrained weights\n",
      "Freezing layer 'model.23.dfl.conv.weight'\n",
      "\u001b[34m\u001b[1mAMP: \u001b[0mrunning Automatic Mixed Precision (AMP) checks...\n",
      "\u001b[34m\u001b[1mAMP: \u001b[0mchecks passed ✅\n"
     ]
    },
    {
     "name": "stderr",
     "output_type": "stream",
     "text": [
      "\u001b[34m\u001b[1mtrain: \u001b[0mScanning /workspace/Data/240617_NajooGwangjoo/object_detection_dataset/earthwork_90m_nerf_cd_pair/split/train/labels... 213 images, 22 backgrounds, 0 corrupt: 100%|██████████| 213/213 [00:00<00:00, 949.58it/s]\n"
     ]
    },
    {
     "name": "stdout",
     "output_type": "stream",
     "text": [
      "\u001b[34m\u001b[1mtrain: \u001b[0mNew cache created: /workspace/Data/240617_NajooGwangjoo/object_detection_dataset/earthwork_90m_nerf_cd_pair/split/train/labels.cache\n"
     ]
    },
    {
     "name": "stderr",
     "output_type": "stream",
     "text": [
      "\u001b[34m\u001b[1mval: \u001b[0mScanning /workspace/Data/240617_NajooGwangjoo/object_detection_dataset/earthwork_90m_nerf_cd_pair/split/val/labels... 35 images, 3 backgrounds, 0 corrupt: 100%|██████████| 35/35 [00:00<00:00, 1748.19it/s]\n"
     ]
    },
    {
     "name": "stdout",
     "output_type": "stream",
     "text": [
      "\u001b[34m\u001b[1mval: \u001b[0mNew cache created: /workspace/Data/240617_NajooGwangjoo/object_detection_dataset/earthwork_90m_nerf_cd_pair/split/val/labels.cache\n",
      "Plotting labels to /workspace/Laboratory/02.Rapid3DReconstruction/00.workspace/Naju_90m_ChangeDetection_workspace/trial5/YOLO/full_1280/labels.jpg... \n",
      "\u001b[34m\u001b[1moptimizer:\u001b[0m 'optimizer=auto' found, ignoring 'lr0=0.01' and 'momentum=0.937' and determining best 'optimizer', 'lr0' and 'momentum' automatically... \n",
      "\u001b[34m\u001b[1moptimizer:\u001b[0m AdamW(lr=0.000714, momentum=0.9) with parameter groups 167 weight(decay=0.0), 174 weight(decay=0.0005), 173 bias(decay=0.0)\n",
      "Image sizes 1280 train, 1280 val\n",
      "Using 16 dataloader workers\n",
      "Logging results to \u001b[1m/workspace/Laboratory/02.Rapid3DReconstruction/00.workspace/Naju_90m_ChangeDetection_workspace/trial5/YOLO/full_1280\u001b[0m\n",
      "Starting training for 100 epochs...\n",
      "\n",
      "      Epoch    GPU_mem   box_loss   cls_loss   dfl_loss  Instances       Size\n"
     ]
    },
    {
     "name": "stderr",
     "output_type": "stream",
     "text": [
      "      1/100      35.5G      1.217       4.19      1.136         48       1280: 100%|██████████| 14/14 [00:11<00:00,  1.22it/s]\n",
      "                 Class     Images  Instances      Box(P          R      mAP50  mAP50-95): 100%|██████████| 3/3 [00:01<00:00,  2.54it/s]\n"
     ]
    },
    {
     "name": "stdout",
     "output_type": "stream",
     "text": [
      "                   all         35        433      0.628      0.449      0.513      0.378\n",
      "\n",
      "      Epoch    GPU_mem   box_loss   cls_loss   dfl_loss  Instances       Size\n"
     ]
    },
    {
     "name": "stderr",
     "output_type": "stream",
     "text": [
      "      2/100      35.7G      1.029      1.523      1.027         56       1280: 100%|██████████| 14/14 [00:09<00:00,  1.42it/s]\n",
      "                 Class     Images  Instances      Box(P          R      mAP50  mAP50-95): 100%|██████████| 3/3 [00:00<00:00,  4.48it/s]\n"
     ]
    },
    {
     "name": "stdout",
     "output_type": "stream",
     "text": [
      "                   all         35        433      0.743      0.749      0.789      0.568\n",
      "\n",
      "      Epoch    GPU_mem   box_loss   cls_loss   dfl_loss  Instances       Size\n"
     ]
    },
    {
     "name": "stderr",
     "output_type": "stream",
     "text": [
      "      3/100      34.4G      1.029       1.06      1.005         65       1280: 100%|██████████| 14/14 [00:09<00:00,  1.46it/s]\n",
      "                 Class     Images  Instances      Box(P          R      mAP50  mAP50-95): 100%|██████████| 3/3 [00:00<00:00,  4.47it/s]\n"
     ]
    },
    {
     "name": "stdout",
     "output_type": "stream",
     "text": [
      "                   all         35        433      0.573      0.681      0.588      0.424\n",
      "\n",
      "      Epoch    GPU_mem   box_loss   cls_loss   dfl_loss  Instances       Size\n"
     ]
    },
    {
     "name": "stderr",
     "output_type": "stream",
     "text": [
      "      4/100      34.6G      1.001     0.9014     0.9774         53       1280: 100%|██████████| 14/14 [00:09<00:00,  1.46it/s]\n",
      "                 Class     Images  Instances      Box(P          R      mAP50  mAP50-95): 100%|██████████| 3/3 [00:00<00:00,  4.51it/s]\n"
     ]
    },
    {
     "name": "stdout",
     "output_type": "stream",
     "text": [
      "                   all         35        433      0.594      0.696      0.712      0.512\n",
      "\n",
      "      Epoch    GPU_mem   box_loss   cls_loss   dfl_loss  Instances       Size\n"
     ]
    },
    {
     "name": "stderr",
     "output_type": "stream",
     "text": [
      "      5/100      34.4G     0.9933     0.8762     0.9878         68       1280: 100%|██████████| 14/14 [00:09<00:00,  1.43it/s]\n",
      "                 Class     Images  Instances      Box(P          R      mAP50  mAP50-95): 100%|██████████| 3/3 [00:00<00:00,  4.01it/s]\n"
     ]
    },
    {
     "name": "stdout",
     "output_type": "stream",
     "text": [
      "                   all         35        433      0.587      0.547       0.58      0.422\n",
      "\n",
      "      Epoch    GPU_mem   box_loss   cls_loss   dfl_loss  Instances       Size\n"
     ]
    },
    {
     "name": "stderr",
     "output_type": "stream",
     "text": [
      "      6/100      34.3G     0.9452     0.8098     0.9802         51       1280: 100%|██████████| 14/14 [00:09<00:00,  1.46it/s]\n",
      "                 Class     Images  Instances      Box(P          R      mAP50  mAP50-95): 100%|██████████| 3/3 [00:00<00:00,  4.22it/s]\n"
     ]
    },
    {
     "name": "stdout",
     "output_type": "stream",
     "text": [
      "                   all         35        433      0.396      0.401      0.404      0.291\n",
      "\n",
      "      Epoch    GPU_mem   box_loss   cls_loss   dfl_loss  Instances       Size\n"
     ]
    },
    {
     "name": "stderr",
     "output_type": "stream",
     "text": [
      "      7/100      35.9G     0.9725     0.7692     0.9883         41       1280: 100%|██████████| 14/14 [00:09<00:00,  1.47it/s]\n",
      "                 Class     Images  Instances      Box(P          R      mAP50  mAP50-95): 100%|██████████| 3/3 [00:00<00:00,  3.97it/s]\n"
     ]
    },
    {
     "name": "stdout",
     "output_type": "stream",
     "text": [
      "                   all         35        433      0.678      0.636      0.679      0.479\n",
      "\n",
      "      Epoch    GPU_mem   box_loss   cls_loss   dfl_loss  Instances       Size\n"
     ]
    },
    {
     "name": "stderr",
     "output_type": "stream",
     "text": [
      "      8/100      34.8G     0.9884     0.8243     0.9913         39       1280: 100%|██████████| 14/14 [00:09<00:00,  1.44it/s]\n",
      "                 Class     Images  Instances      Box(P          R      mAP50  mAP50-95): 100%|██████████| 3/3 [00:00<00:00,  3.31it/s]\n"
     ]
    },
    {
     "name": "stdout",
     "output_type": "stream",
     "text": [
      "                   all         35        433      0.657      0.611      0.634      0.452\n",
      "\n",
      "      Epoch    GPU_mem   box_loss   cls_loss   dfl_loss  Instances       Size\n"
     ]
    },
    {
     "name": "stderr",
     "output_type": "stream",
     "text": [
      "      9/100      35.9G      1.037     0.7965      1.038         21       1280: 100%|██████████| 14/14 [00:09<00:00,  1.44it/s]\n",
      "                 Class     Images  Instances      Box(P          R      mAP50  mAP50-95): 100%|██████████| 3/3 [00:00<00:00,  4.31it/s]\n"
     ]
    },
    {
     "name": "stdout",
     "output_type": "stream",
     "text": [
      "                   all         35        433      0.595      0.553      0.609      0.432\n",
      "\n",
      "      Epoch    GPU_mem   box_loss   cls_loss   dfl_loss  Instances       Size\n"
     ]
    },
    {
     "name": "stderr",
     "output_type": "stream",
     "text": [
      "     10/100      34.3G     0.9543     0.6589     0.9797         38       1280: 100%|██████████| 14/14 [00:09<00:00,  1.44it/s]\n",
      "                 Class     Images  Instances      Box(P          R      mAP50  mAP50-95): 100%|██████████| 3/3 [00:00<00:00,  4.49it/s]\n"
     ]
    },
    {
     "name": "stdout",
     "output_type": "stream",
     "text": [
      "                   all         35        433      0.762       0.73      0.777      0.541\n",
      "\n",
      "      Epoch    GPU_mem   box_loss   cls_loss   dfl_loss  Instances       Size\n"
     ]
    },
    {
     "name": "stderr",
     "output_type": "stream",
     "text": [
      "     11/100      36.3G     0.9099     0.6011     0.9738         39       1280: 100%|██████████| 14/14 [00:09<00:00,  1.45it/s]\n",
      "                 Class     Images  Instances      Box(P          R      mAP50  mAP50-95): 100%|██████████| 3/3 [00:00<00:00,  4.06it/s]\n"
     ]
    },
    {
     "name": "stdout",
     "output_type": "stream",
     "text": [
      "                   all         35        433      0.772      0.771      0.816      0.578\n",
      "\n",
      "      Epoch    GPU_mem   box_loss   cls_loss   dfl_loss  Instances       Size\n"
     ]
    },
    {
     "name": "stderr",
     "output_type": "stream",
     "text": [
      "     12/100      34.5G     0.9136     0.6047      0.971         91       1280: 100%|██████████| 14/14 [00:09<00:00,  1.43it/s]\n",
      "                 Class     Images  Instances      Box(P          R      mAP50  mAP50-95): 100%|██████████| 3/3 [00:00<00:00,  4.55it/s]\n"
     ]
    },
    {
     "name": "stdout",
     "output_type": "stream",
     "text": [
      "                   all         35        433      0.846      0.833      0.885      0.632\n",
      "\n",
      "      Epoch    GPU_mem   box_loss   cls_loss   dfl_loss  Instances       Size\n"
     ]
    },
    {
     "name": "stderr",
     "output_type": "stream",
     "text": [
      "     13/100      35.9G     0.9325     0.5884     0.9855         67       1280: 100%|██████████| 14/14 [00:09<00:00,  1.46it/s]\n",
      "                 Class     Images  Instances      Box(P          R      mAP50  mAP50-95): 100%|██████████| 3/3 [00:00<00:00,  4.55it/s]\n"
     ]
    },
    {
     "name": "stdout",
     "output_type": "stream",
     "text": [
      "                   all         35        433      0.857      0.826      0.863       0.61\n",
      "\n",
      "      Epoch    GPU_mem   box_loss   cls_loss   dfl_loss  Instances       Size\n"
     ]
    },
    {
     "name": "stderr",
     "output_type": "stream",
     "text": [
      "     14/100      34.3G     0.9249     0.5679     0.9608         84       1280: 100%|██████████| 14/14 [00:09<00:00,  1.44it/s]\n",
      "                 Class     Images  Instances      Box(P          R      mAP50  mAP50-95): 100%|██████████| 3/3 [00:00<00:00,  4.48it/s]\n"
     ]
    },
    {
     "name": "stdout",
     "output_type": "stream",
     "text": [
      "                   all         35        433      0.845      0.796      0.829      0.614\n",
      "\n",
      "      Epoch    GPU_mem   box_loss   cls_loss   dfl_loss  Instances       Size\n"
     ]
    },
    {
     "name": "stderr",
     "output_type": "stream",
     "text": [
      "     15/100        36G     0.8821     0.5495     0.9553         44       1280: 100%|██████████| 14/14 [00:09<00:00,  1.41it/s]\n",
      "                 Class     Images  Instances      Box(P          R      mAP50  mAP50-95): 100%|██████████| 3/3 [00:00<00:00,  4.52it/s]\n"
     ]
    },
    {
     "name": "stdout",
     "output_type": "stream",
     "text": [
      "                   all         35        433      0.758       0.74      0.808      0.571\n",
      "\n",
      "      Epoch    GPU_mem   box_loss   cls_loss   dfl_loss  Instances       Size\n"
     ]
    },
    {
     "name": "stderr",
     "output_type": "stream",
     "text": [
      "     16/100      34.3G     0.8714     0.5406     0.9554         32       1280: 100%|██████████| 14/14 [00:09<00:00,  1.44it/s]\n",
      "                 Class     Images  Instances      Box(P          R      mAP50  mAP50-95): 100%|██████████| 3/3 [00:00<00:00,  4.58it/s]\n"
     ]
    },
    {
     "name": "stdout",
     "output_type": "stream",
     "text": [
      "                   all         35        433       0.76      0.816      0.864      0.619\n",
      "\n",
      "      Epoch    GPU_mem   box_loss   cls_loss   dfl_loss  Instances       Size\n"
     ]
    },
    {
     "name": "stderr",
     "output_type": "stream",
     "text": [
      "     17/100      36.3G     0.8906     0.5144     0.9751         43       1280: 100%|██████████| 14/14 [00:09<00:00,  1.45it/s]\n",
      "                 Class     Images  Instances      Box(P          R      mAP50  mAP50-95): 100%|██████████| 3/3 [00:00<00:00,  4.53it/s]\n"
     ]
    },
    {
     "name": "stdout",
     "output_type": "stream",
     "text": [
      "                   all         35        433      0.913      0.802      0.885      0.622\n",
      "\n",
      "      Epoch    GPU_mem   box_loss   cls_loss   dfl_loss  Instances       Size\n"
     ]
    },
    {
     "name": "stderr",
     "output_type": "stream",
     "text": [
      "     18/100      34.3G     0.9019     0.5615     0.9699        122       1280: 100%|██████████| 14/14 [00:09<00:00,  1.43it/s]\n",
      "                 Class     Images  Instances      Box(P          R      mAP50  mAP50-95): 100%|██████████| 3/3 [00:00<00:00,  4.23it/s]\n"
     ]
    },
    {
     "name": "stdout",
     "output_type": "stream",
     "text": [
      "                   all         35        433      0.882      0.822      0.889      0.626\n",
      "\n",
      "      Epoch    GPU_mem   box_loss   cls_loss   dfl_loss  Instances       Size\n"
     ]
    },
    {
     "name": "stderr",
     "output_type": "stream",
     "text": [
      "     19/100      36.3G     0.8687     0.5147     0.9666         71       1280: 100%|██████████| 14/14 [00:09<00:00,  1.45it/s]\n",
      "                 Class     Images  Instances      Box(P          R      mAP50  mAP50-95): 100%|██████████| 3/3 [00:00<00:00,  4.56it/s]\n"
     ]
    },
    {
     "name": "stdout",
     "output_type": "stream",
     "text": [
      "                   all         35        433      0.931      0.807      0.905      0.661\n",
      "\n",
      "      Epoch    GPU_mem   box_loss   cls_loss   dfl_loss  Instances       Size\n"
     ]
    },
    {
     "name": "stderr",
     "output_type": "stream",
     "text": [
      "     20/100      34.3G     0.8493     0.4921     0.9377         72       1280: 100%|██████████| 14/14 [00:09<00:00,  1.45it/s]\n",
      "                 Class     Images  Instances      Box(P          R      mAP50  mAP50-95): 100%|██████████| 3/3 [00:00<00:00,  4.54it/s]\n"
     ]
    },
    {
     "name": "stdout",
     "output_type": "stream",
     "text": [
      "                   all         35        433      0.891       0.88      0.923       0.67\n",
      "\n",
      "      Epoch    GPU_mem   box_loss   cls_loss   dfl_loss  Instances       Size\n"
     ]
    },
    {
     "name": "stderr",
     "output_type": "stream",
     "text": [
      "     21/100        36G     0.8341     0.4986     0.9379         52       1280: 100%|██████████| 14/14 [00:09<00:00,  1.44it/s]\n",
      "                 Class     Images  Instances      Box(P          R      mAP50  mAP50-95): 100%|██████████| 3/3 [00:00<00:00,  4.17it/s]\n"
     ]
    },
    {
     "name": "stdout",
     "output_type": "stream",
     "text": [
      "                   all         35        433      0.849      0.857      0.895      0.643\n",
      "\n",
      "      Epoch    GPU_mem   box_loss   cls_loss   dfl_loss  Instances       Size\n"
     ]
    },
    {
     "name": "stderr",
     "output_type": "stream",
     "text": [
      "     22/100      34.4G     0.8492     0.4885     0.9363         36       1280: 100%|██████████| 14/14 [00:09<00:00,  1.44it/s]\n",
      "                 Class     Images  Instances      Box(P          R      mAP50  mAP50-95): 100%|██████████| 3/3 [00:00<00:00,  4.59it/s]\n"
     ]
    },
    {
     "name": "stdout",
     "output_type": "stream",
     "text": [
      "                   all         35        433      0.848      0.867       0.92      0.643\n",
      "\n",
      "      Epoch    GPU_mem   box_loss   cls_loss   dfl_loss  Instances       Size\n"
     ]
    },
    {
     "name": "stderr",
     "output_type": "stream",
     "text": [
      "     23/100        36G     0.8593     0.5095     0.9712         83       1280: 100%|██████████| 14/14 [00:09<00:00,  1.46it/s]\n",
      "                 Class     Images  Instances      Box(P          R      mAP50  mAP50-95): 100%|██████████| 3/3 [00:00<00:00,  4.55it/s]\n"
     ]
    },
    {
     "name": "stdout",
     "output_type": "stream",
     "text": [
      "                   all         35        433      0.873      0.855      0.911      0.654\n",
      "\n",
      "      Epoch    GPU_mem   box_loss   cls_loss   dfl_loss  Instances       Size\n"
     ]
    },
    {
     "name": "stderr",
     "output_type": "stream",
     "text": [
      "     24/100      34.4G     0.8155     0.4634     0.9347         63       1280: 100%|██████████| 14/14 [00:09<00:00,  1.44it/s]\n",
      "                 Class     Images  Instances      Box(P          R      mAP50  mAP50-95): 100%|██████████| 3/3 [00:00<00:00,  4.57it/s]\n"
     ]
    },
    {
     "name": "stdout",
     "output_type": "stream",
     "text": [
      "                   all         35        433      0.906      0.876      0.939      0.658\n",
      "\n",
      "      Epoch    GPU_mem   box_loss   cls_loss   dfl_loss  Instances       Size\n"
     ]
    },
    {
     "name": "stderr",
     "output_type": "stream",
     "text": [
      "     25/100      35.9G     0.8208     0.4635     0.9314         40       1280: 100%|██████████| 14/14 [00:09<00:00,  1.45it/s]\n",
      "                 Class     Images  Instances      Box(P          R      mAP50  mAP50-95): 100%|██████████| 3/3 [00:00<00:00,  4.60it/s]\n"
     ]
    },
    {
     "name": "stdout",
     "output_type": "stream",
     "text": [
      "                   all         35        433      0.886      0.873      0.917      0.666\n",
      "\n",
      "      Epoch    GPU_mem   box_loss   cls_loss   dfl_loss  Instances       Size\n"
     ]
    },
    {
     "name": "stderr",
     "output_type": "stream",
     "text": [
      "     26/100      34.6G      0.839     0.4755     0.9445         67       1280: 100%|██████████| 14/14 [00:09<00:00,  1.45it/s]\n",
      "                 Class     Images  Instances      Box(P          R      mAP50  mAP50-95): 100%|██████████| 3/3 [00:00<00:00,  4.54it/s]\n"
     ]
    },
    {
     "name": "stdout",
     "output_type": "stream",
     "text": [
      "                   all         35        433      0.898      0.904      0.922      0.685\n",
      "\n",
      "      Epoch    GPU_mem   box_loss   cls_loss   dfl_loss  Instances       Size\n"
     ]
    },
    {
     "name": "stderr",
     "output_type": "stream",
     "text": [
      "     27/100      35.9G     0.8219     0.4526     0.9433         34       1280: 100%|██████████| 14/14 [00:09<00:00,  1.44it/s]\n",
      "                 Class     Images  Instances      Box(P          R      mAP50  mAP50-95): 100%|██████████| 3/3 [00:00<00:00,  4.19it/s]\n"
     ]
    },
    {
     "name": "stdout",
     "output_type": "stream",
     "text": [
      "                   all         35        433      0.911      0.901      0.946      0.691\n",
      "\n",
      "      Epoch    GPU_mem   box_loss   cls_loss   dfl_loss  Instances       Size\n"
     ]
    },
    {
     "name": "stderr",
     "output_type": "stream",
     "text": [
      "     28/100      34.3G     0.8355     0.4715     0.9337         30       1280: 100%|██████████| 14/14 [00:09<00:00,  1.45it/s]\n",
      "                 Class     Images  Instances      Box(P          R      mAP50  mAP50-95): 100%|██████████| 3/3 [00:00<00:00,  4.56it/s]\n"
     ]
    },
    {
     "name": "stdout",
     "output_type": "stream",
     "text": [
      "                   all         35        433      0.886      0.889      0.926      0.688\n",
      "\n",
      "      Epoch    GPU_mem   box_loss   cls_loss   dfl_loss  Instances       Size\n"
     ]
    },
    {
     "name": "stderr",
     "output_type": "stream",
     "text": [
      "     29/100      35.9G     0.8369     0.4569     0.9517         44       1280: 100%|██████████| 14/14 [00:09<00:00,  1.46it/s]\n",
      "                 Class     Images  Instances      Box(P          R      mAP50  mAP50-95): 100%|██████████| 3/3 [00:00<00:00,  4.57it/s]\n"
     ]
    },
    {
     "name": "stdout",
     "output_type": "stream",
     "text": [
      "                   all         35        433      0.942      0.906      0.949      0.696\n",
      "\n",
      "      Epoch    GPU_mem   box_loss   cls_loss   dfl_loss  Instances       Size\n"
     ]
    },
    {
     "name": "stderr",
     "output_type": "stream",
     "text": [
      "     30/100      34.3G     0.7819     0.4353     0.9194         49       1280: 100%|██████████| 14/14 [00:09<00:00,  1.43it/s]\n",
      "                 Class     Images  Instances      Box(P          R      mAP50  mAP50-95): 100%|██████████| 3/3 [00:00<00:00,  4.20it/s]\n"
     ]
    },
    {
     "name": "stdout",
     "output_type": "stream",
     "text": [
      "                   all         35        433      0.959      0.956      0.971      0.713\n",
      "\n",
      "      Epoch    GPU_mem   box_loss   cls_loss   dfl_loss  Instances       Size\n"
     ]
    },
    {
     "name": "stderr",
     "output_type": "stream",
     "text": [
      "     31/100      35.8G     0.8094     0.4406     0.9287         69       1280: 100%|██████████| 14/14 [00:09<00:00,  1.45it/s]\n",
      "                 Class     Images  Instances      Box(P          R      mAP50  mAP50-95): 100%|██████████| 3/3 [00:00<00:00,  4.60it/s]\n"
     ]
    },
    {
     "name": "stdout",
     "output_type": "stream",
     "text": [
      "                   all         35        433      0.931      0.932      0.964      0.703\n",
      "\n",
      "      Epoch    GPU_mem   box_loss   cls_loss   dfl_loss  Instances       Size\n"
     ]
    },
    {
     "name": "stderr",
     "output_type": "stream",
     "text": [
      "     32/100      34.7G     0.7769     0.4304     0.9214         92       1280: 100%|██████████| 14/14 [00:09<00:00,  1.45it/s]\n",
      "                 Class     Images  Instances      Box(P          R      mAP50  mAP50-95): 100%|██████████| 3/3 [00:00<00:00,  4.58it/s]\n"
     ]
    },
    {
     "name": "stdout",
     "output_type": "stream",
     "text": [
      "                   all         35        433      0.892      0.915      0.938      0.694\n",
      "\n",
      "      Epoch    GPU_mem   box_loss   cls_loss   dfl_loss  Instances       Size\n"
     ]
    },
    {
     "name": "stderr",
     "output_type": "stream",
     "text": [
      "     33/100      35.9G     0.7677     0.4323     0.9047        101       1280: 100%|██████████| 14/14 [00:09<00:00,  1.43it/s]\n",
      "                 Class     Images  Instances      Box(P          R      mAP50  mAP50-95): 100%|██████████| 3/3 [00:00<00:00,  4.24it/s]\n"
     ]
    },
    {
     "name": "stdout",
     "output_type": "stream",
     "text": [
      "                   all         35        433      0.893      0.957      0.954      0.719\n",
      "\n",
      "      Epoch    GPU_mem   box_loss   cls_loss   dfl_loss  Instances       Size\n"
     ]
    },
    {
     "name": "stderr",
     "output_type": "stream",
     "text": [
      "     34/100      34.2G     0.7564      0.414     0.9214         94       1280: 100%|██████████| 14/14 [00:09<00:00,  1.44it/s]\n",
      "                 Class     Images  Instances      Box(P          R      mAP50  mAP50-95): 100%|██████████| 3/3 [00:00<00:00,  4.60it/s]\n"
     ]
    },
    {
     "name": "stdout",
     "output_type": "stream",
     "text": [
      "                   all         35        433      0.945      0.911      0.959      0.722\n",
      "\n",
      "      Epoch    GPU_mem   box_loss   cls_loss   dfl_loss  Instances       Size\n"
     ]
    },
    {
     "name": "stderr",
     "output_type": "stream",
     "text": [
      "     35/100      35.9G     0.7528     0.4231     0.9139         36       1280: 100%|██████████| 14/14 [00:09<00:00,  1.45it/s]\n",
      "                 Class     Images  Instances      Box(P          R      mAP50  mAP50-95): 100%|██████████| 3/3 [00:00<00:00,  4.57it/s]\n"
     ]
    },
    {
     "name": "stdout",
     "output_type": "stream",
     "text": [
      "                   all         35        433      0.902      0.934      0.945      0.722\n",
      "\n",
      "      Epoch    GPU_mem   box_loss   cls_loss   dfl_loss  Instances       Size\n"
     ]
    },
    {
     "name": "stderr",
     "output_type": "stream",
     "text": [
      "     36/100      34.4G     0.7469     0.4147     0.9182         64       1280: 100%|██████████| 14/14 [00:09<00:00,  1.44it/s]\n",
      "                 Class     Images  Instances      Box(P          R      mAP50  mAP50-95): 100%|██████████| 3/3 [00:00<00:00,  4.22it/s]\n"
     ]
    },
    {
     "name": "stdout",
     "output_type": "stream",
     "text": [
      "                   all         35        433      0.882       0.88       0.93      0.696\n",
      "\n",
      "      Epoch    GPU_mem   box_loss   cls_loss   dfl_loss  Instances       Size\n"
     ]
    },
    {
     "name": "stderr",
     "output_type": "stream",
     "text": [
      "     37/100      35.9G      0.751     0.4141     0.9145        110       1280: 100%|██████████| 14/14 [00:09<00:00,  1.44it/s]\n",
      "                 Class     Images  Instances      Box(P          R      mAP50  mAP50-95): 100%|██████████| 3/3 [00:00<00:00,  4.61it/s]\n"
     ]
    },
    {
     "name": "stdout",
     "output_type": "stream",
     "text": [
      "                   all         35        433      0.895      0.902      0.939      0.693\n",
      "\n",
      "      Epoch    GPU_mem   box_loss   cls_loss   dfl_loss  Instances       Size\n"
     ]
    },
    {
     "name": "stderr",
     "output_type": "stream",
     "text": [
      "     38/100      34.1G     0.7509     0.4177      0.897         45       1280: 100%|██████████| 14/14 [00:09<00:00,  1.45it/s]\n",
      "                 Class     Images  Instances      Box(P          R      mAP50  mAP50-95): 100%|██████████| 3/3 [00:00<00:00,  4.58it/s]\n"
     ]
    },
    {
     "name": "stdout",
     "output_type": "stream",
     "text": [
      "                   all         35        433      0.932      0.891      0.948      0.716\n",
      "\n",
      "      Epoch    GPU_mem   box_loss   cls_loss   dfl_loss  Instances       Size\n"
     ]
    },
    {
     "name": "stderr",
     "output_type": "stream",
     "text": [
      "     39/100        36G     0.7573     0.4333     0.8967         97       1280: 100%|██████████| 14/14 [00:09<00:00,  1.45it/s]\n",
      "                 Class     Images  Instances      Box(P          R      mAP50  mAP50-95): 100%|██████████| 3/3 [00:00<00:00,  4.59it/s]\n"
     ]
    },
    {
     "name": "stdout",
     "output_type": "stream",
     "text": [
      "                   all         35        433      0.948        0.9      0.944      0.722\n",
      "\n",
      "      Epoch    GPU_mem   box_loss   cls_loss   dfl_loss  Instances       Size\n"
     ]
    },
    {
     "name": "stderr",
     "output_type": "stream",
     "text": [
      "     40/100      34.6G     0.7802     0.4274     0.9385         11       1280: 100%|██████████| 14/14 [00:09<00:00,  1.41it/s]\n",
      "                 Class     Images  Instances      Box(P          R      mAP50  mAP50-95): 100%|██████████| 3/3 [00:00<00:00,  4.22it/s]\n"
     ]
    },
    {
     "name": "stdout",
     "output_type": "stream",
     "text": [
      "                   all         35        433      0.892      0.915      0.944      0.706\n",
      "\n",
      "      Epoch    GPU_mem   box_loss   cls_loss   dfl_loss  Instances       Size\n"
     ]
    },
    {
     "name": "stderr",
     "output_type": "stream",
     "text": [
      "     41/100      35.9G     0.7565     0.4246     0.9122         96       1280: 100%|██████████| 14/14 [00:09<00:00,  1.41it/s]\n",
      "                 Class     Images  Instances      Box(P          R      mAP50  mAP50-95): 100%|██████████| 3/3 [00:00<00:00,  4.15it/s]\n"
     ]
    },
    {
     "name": "stdout",
     "output_type": "stream",
     "text": [
      "                   all         35        433      0.952      0.893      0.958      0.711\n",
      "\n",
      "      Epoch    GPU_mem   box_loss   cls_loss   dfl_loss  Instances       Size\n"
     ]
    },
    {
     "name": "stderr",
     "output_type": "stream",
     "text": [
      "     42/100      34.4G      0.747     0.4059     0.9187        140       1280: 100%|██████████| 14/14 [00:09<00:00,  1.45it/s]\n",
      "                 Class     Images  Instances      Box(P          R      mAP50  mAP50-95): 100%|██████████| 3/3 [00:00<00:00,  4.59it/s]\n"
     ]
    },
    {
     "name": "stdout",
     "output_type": "stream",
     "text": [
      "                   all         35        433      0.951      0.937      0.966      0.725\n",
      "\n",
      "      Epoch    GPU_mem   box_loss   cls_loss   dfl_loss  Instances       Size\n"
     ]
    },
    {
     "name": "stderr",
     "output_type": "stream",
     "text": [
      "     43/100      35.8G     0.7301     0.3958     0.9061        247       1280: 100%|██████████| 14/14 [00:09<00:00,  1.44it/s]\n",
      "                 Class     Images  Instances      Box(P          R      mAP50  mAP50-95): 100%|██████████| 3/3 [00:00<00:00,  4.60it/s]\n"
     ]
    },
    {
     "name": "stdout",
     "output_type": "stream",
     "text": [
      "                   all         35        433      0.926      0.918      0.946      0.714\n",
      "\n",
      "      Epoch    GPU_mem   box_loss   cls_loss   dfl_loss  Instances       Size\n"
     ]
    },
    {
     "name": "stderr",
     "output_type": "stream",
     "text": [
      "     44/100      34.2G     0.7622     0.3967     0.9241         56       1280: 100%|██████████| 14/14 [00:09<00:00,  1.44it/s]\n",
      "                 Class     Images  Instances      Box(P          R      mAP50  mAP50-95): 100%|██████████| 3/3 [00:00<00:00,  4.22it/s]\n"
     ]
    },
    {
     "name": "stdout",
     "output_type": "stream",
     "text": [
      "                   all         35        433      0.925      0.962      0.959      0.712\n",
      "\n",
      "      Epoch    GPU_mem   box_loss   cls_loss   dfl_loss  Instances       Size\n"
     ]
    },
    {
     "name": "stderr",
     "output_type": "stream",
     "text": [
      "     45/100      36.2G     0.7176     0.3873     0.9094         70       1280: 100%|██████████| 14/14 [00:09<00:00,  1.43it/s]\n",
      "                 Class     Images  Instances      Box(P          R      mAP50  mAP50-95): 100%|██████████| 3/3 [00:00<00:00,  4.59it/s]\n"
     ]
    },
    {
     "name": "stdout",
     "output_type": "stream",
     "text": [
      "                   all         35        433      0.924      0.926       0.95      0.712\n",
      "\n",
      "      Epoch    GPU_mem   box_loss   cls_loss   dfl_loss  Instances       Size\n"
     ]
    },
    {
     "name": "stderr",
     "output_type": "stream",
     "text": [
      "     46/100      34.4G     0.7369     0.3949      0.886         83       1280: 100%|██████████| 14/14 [00:09<00:00,  1.44it/s]\n",
      "                 Class     Images  Instances      Box(P          R      mAP50  mAP50-95): 100%|██████████| 3/3 [00:00<00:00,  4.53it/s]\n"
     ]
    },
    {
     "name": "stdout",
     "output_type": "stream",
     "text": [
      "                   all         35        433      0.928      0.929      0.962      0.726\n",
      "\n",
      "      Epoch    GPU_mem   box_loss   cls_loss   dfl_loss  Instances       Size\n"
     ]
    },
    {
     "name": "stderr",
     "output_type": "stream",
     "text": [
      "     47/100      36.3G     0.7512     0.3994     0.9086         18       1280: 100%|██████████| 14/14 [00:09<00:00,  1.45it/s]\n",
      "                 Class     Images  Instances      Box(P          R      mAP50  mAP50-95): 100%|██████████| 3/3 [00:00<00:00,  4.58it/s]\n"
     ]
    },
    {
     "name": "stdout",
     "output_type": "stream",
     "text": [
      "                   all         35        433      0.964      0.902      0.972      0.737\n",
      "\n",
      "      Epoch    GPU_mem   box_loss   cls_loss   dfl_loss  Instances       Size\n"
     ]
    },
    {
     "name": "stderr",
     "output_type": "stream",
     "text": [
      "     48/100      34.3G      0.744     0.3924     0.9028          9       1280: 100%|██████████| 14/14 [00:09<00:00,  1.42it/s]\n",
      "                 Class     Images  Instances      Box(P          R      mAP50  mAP50-95): 100%|██████████| 3/3 [00:00<00:00,  4.62it/s]\n"
     ]
    },
    {
     "name": "stdout",
     "output_type": "stream",
     "text": [
      "                   all         35        433      0.944      0.951      0.969      0.747\n",
      "\n",
      "      Epoch    GPU_mem   box_loss   cls_loss   dfl_loss  Instances       Size\n"
     ]
    },
    {
     "name": "stderr",
     "output_type": "stream",
     "text": [
      "     49/100        36G     0.7152     0.3797      0.894        103       1280: 100%|██████████| 14/14 [00:09<00:00,  1.45it/s]\n",
      "                 Class     Images  Instances      Box(P          R      mAP50  mAP50-95): 100%|██████████| 3/3 [00:00<00:00,  4.61it/s]\n"
     ]
    },
    {
     "name": "stdout",
     "output_type": "stream",
     "text": [
      "                   all         35        433      0.954      0.932      0.964      0.733\n",
      "\n",
      "      Epoch    GPU_mem   box_loss   cls_loss   dfl_loss  Instances       Size\n"
     ]
    },
    {
     "name": "stderr",
     "output_type": "stream",
     "text": [
      "     50/100      34.3G     0.7328     0.3993      0.898         64       1280: 100%|██████████| 14/14 [00:09<00:00,  1.44it/s]\n",
      "                 Class     Images  Instances      Box(P          R      mAP50  mAP50-95): 100%|██████████| 3/3 [00:00<00:00,  4.54it/s]\n"
     ]
    },
    {
     "name": "stdout",
     "output_type": "stream",
     "text": [
      "                   all         35        433      0.936      0.934      0.956      0.741\n",
      "\n",
      "      Epoch    GPU_mem   box_loss   cls_loss   dfl_loss  Instances       Size\n"
     ]
    },
    {
     "name": "stderr",
     "output_type": "stream",
     "text": [
      "     51/100        36G     0.6988     0.3733     0.8747         93       1280: 100%|██████████| 14/14 [00:09<00:00,  1.43it/s]\n",
      "                 Class     Images  Instances      Box(P          R      mAP50  mAP50-95): 100%|██████████| 3/3 [00:00<00:00,  4.22it/s]\n"
     ]
    },
    {
     "name": "stdout",
     "output_type": "stream",
     "text": [
      "                   all         35        433      0.972      0.923      0.965      0.748\n",
      "\n",
      "      Epoch    GPU_mem   box_loss   cls_loss   dfl_loss  Instances       Size\n"
     ]
    },
    {
     "name": "stderr",
     "output_type": "stream",
     "text": [
      "     52/100      34.2G     0.7071     0.3734     0.8881        105       1280: 100%|██████████| 14/14 [00:09<00:00,  1.43it/s]\n",
      "                 Class     Images  Instances      Box(P          R      mAP50  mAP50-95): 100%|██████████| 3/3 [00:00<00:00,  4.60it/s]\n"
     ]
    },
    {
     "name": "stdout",
     "output_type": "stream",
     "text": [
      "                   all         35        433      0.951      0.949       0.97      0.745\n",
      "\n",
      "      Epoch    GPU_mem   box_loss   cls_loss   dfl_loss  Instances       Size\n"
     ]
    },
    {
     "name": "stderr",
     "output_type": "stream",
     "text": [
      "     53/100      35.9G     0.6902     0.3685     0.8846         70       1280: 100%|██████████| 14/14 [00:09<00:00,  1.45it/s]\n",
      "                 Class     Images  Instances      Box(P          R      mAP50  mAP50-95): 100%|██████████| 3/3 [00:00<00:00,  4.47it/s]\n"
     ]
    },
    {
     "name": "stdout",
     "output_type": "stream",
     "text": [
      "                   all         35        433      0.938      0.953      0.971      0.739\n",
      "\n",
      "      Epoch    GPU_mem   box_loss   cls_loss   dfl_loss  Instances       Size\n"
     ]
    },
    {
     "name": "stderr",
     "output_type": "stream",
     "text": [
      "     54/100      34.2G     0.6921     0.3682     0.8823         21       1280: 100%|██████████| 14/14 [00:09<00:00,  1.45it/s]\n",
      "                 Class     Images  Instances      Box(P          R      mAP50  mAP50-95): 100%|██████████| 3/3 [00:00<00:00,  4.61it/s]\n"
     ]
    },
    {
     "name": "stdout",
     "output_type": "stream",
     "text": [
      "                   all         35        433      0.936      0.931      0.959      0.727\n",
      "\n",
      "      Epoch    GPU_mem   box_loss   cls_loss   dfl_loss  Instances       Size\n"
     ]
    },
    {
     "name": "stderr",
     "output_type": "stream",
     "text": [
      "     55/100      35.6G     0.6878      0.368     0.8818         52       1280: 100%|██████████| 14/14 [00:09<00:00,  1.42it/s]\n",
      "                 Class     Images  Instances      Box(P          R      mAP50  mAP50-95): 100%|██████████| 3/3 [00:00<00:00,  4.61it/s]\n"
     ]
    },
    {
     "name": "stdout",
     "output_type": "stream",
     "text": [
      "                   all         35        433      0.962      0.937      0.969      0.739\n",
      "\n",
      "      Epoch    GPU_mem   box_loss   cls_loss   dfl_loss  Instances       Size\n"
     ]
    },
    {
     "name": "stderr",
     "output_type": "stream",
     "text": [
      "     56/100      34.3G     0.7068     0.3701     0.8828         30       1280: 100%|██████████| 14/14 [00:09<00:00,  1.45it/s]\n",
      "                 Class     Images  Instances      Box(P          R      mAP50  mAP50-95): 100%|██████████| 3/3 [00:00<00:00,  4.55it/s]\n"
     ]
    },
    {
     "name": "stdout",
     "output_type": "stream",
     "text": [
      "                   all         35        433      0.915      0.935      0.962      0.737\n",
      "\n",
      "      Epoch    GPU_mem   box_loss   cls_loss   dfl_loss  Instances       Size\n"
     ]
    },
    {
     "name": "stderr",
     "output_type": "stream",
     "text": [
      "     57/100        35G     0.6872     0.3563     0.8858         85       1280: 100%|██████████| 14/14 [00:09<00:00,  1.45it/s]\n",
      "                 Class     Images  Instances      Box(P          R      mAP50  mAP50-95): 100%|██████████| 3/3 [00:00<00:00,  4.63it/s]\n"
     ]
    },
    {
     "name": "stdout",
     "output_type": "stream",
     "text": [
      "                   all         35        433      0.925      0.923      0.962      0.731\n",
      "\n",
      "      Epoch    GPU_mem   box_loss   cls_loss   dfl_loss  Instances       Size\n"
     ]
    },
    {
     "name": "stderr",
     "output_type": "stream",
     "text": [
      "     58/100      34.6G     0.6937     0.3616     0.8913         69       1280: 100%|██████████| 14/14 [00:09<00:00,  1.42it/s]\n",
      "                 Class     Images  Instances      Box(P          R      mAP50  mAP50-95): 100%|██████████| 3/3 [00:00<00:00,  4.18it/s]\n"
     ]
    },
    {
     "name": "stdout",
     "output_type": "stream",
     "text": [
      "                   all         35        433      0.927      0.938      0.951      0.722\n",
      "\n",
      "      Epoch    GPU_mem   box_loss   cls_loss   dfl_loss  Instances       Size\n"
     ]
    },
    {
     "name": "stderr",
     "output_type": "stream",
     "text": [
      "     59/100        36G     0.6766     0.3523     0.8784         55       1280: 100%|██████████| 14/14 [00:09<00:00,  1.45it/s]\n",
      "                 Class     Images  Instances      Box(P          R      mAP50  mAP50-95): 100%|██████████| 3/3 [00:00<00:00,  4.58it/s]\n"
     ]
    },
    {
     "name": "stdout",
     "output_type": "stream",
     "text": [
      "                   all         35        433      0.956      0.933      0.953       0.73\n",
      "\n",
      "      Epoch    GPU_mem   box_loss   cls_loss   dfl_loss  Instances       Size\n"
     ]
    },
    {
     "name": "stderr",
     "output_type": "stream",
     "text": [
      "     60/100      34.5G      0.656     0.3485     0.8757         64       1280: 100%|██████████| 14/14 [00:09<00:00,  1.44it/s]\n",
      "                 Class     Images  Instances      Box(P          R      mAP50  mAP50-95): 100%|██████████| 3/3 [00:00<00:00,  4.59it/s]\n"
     ]
    },
    {
     "name": "stdout",
     "output_type": "stream",
     "text": [
      "                   all         35        433      0.949      0.938      0.967      0.742\n",
      "\n",
      "      Epoch    GPU_mem   box_loss   cls_loss   dfl_loss  Instances       Size\n"
     ]
    },
    {
     "name": "stderr",
     "output_type": "stream",
     "text": [
      "     61/100      35.9G     0.6631     0.3532     0.8876         28       1280: 100%|██████████| 14/14 [00:09<00:00,  1.45it/s]\n",
      "                 Class     Images  Instances      Box(P          R      mAP50  mAP50-95): 100%|██████████| 3/3 [00:00<00:00,  4.39it/s]\n"
     ]
    },
    {
     "name": "stdout",
     "output_type": "stream",
     "text": [
      "                   all         35        433      0.944      0.949      0.969      0.754\n",
      "\n",
      "      Epoch    GPU_mem   box_loss   cls_loss   dfl_loss  Instances       Size\n"
     ]
    },
    {
     "name": "stderr",
     "output_type": "stream",
     "text": [
      "     62/100      34.4G     0.6427     0.3486     0.8847         93       1280: 100%|██████████| 14/14 [00:09<00:00,  1.42it/s]\n",
      "                 Class     Images  Instances      Box(P          R      mAP50  mAP50-95): 100%|██████████| 3/3 [00:00<00:00,  4.57it/s]\n"
     ]
    },
    {
     "name": "stdout",
     "output_type": "stream",
     "text": [
      "                   all         35        433      0.971      0.944      0.972      0.755\n",
      "\n",
      "      Epoch    GPU_mem   box_loss   cls_loss   dfl_loss  Instances       Size\n"
     ]
    },
    {
     "name": "stderr",
     "output_type": "stream",
     "text": [
      "     63/100      36.3G     0.6702     0.3486      0.892         34       1280: 100%|██████████| 14/14 [00:09<00:00,  1.45it/s]\n",
      "                 Class     Images  Instances      Box(P          R      mAP50  mAP50-95): 100%|██████████| 3/3 [00:00<00:00,  4.62it/s]\n"
     ]
    },
    {
     "name": "stdout",
     "output_type": "stream",
     "text": [
      "                   all         35        433      0.962      0.963      0.972       0.76\n",
      "\n",
      "      Epoch    GPU_mem   box_loss   cls_loss   dfl_loss  Instances       Size\n"
     ]
    },
    {
     "name": "stderr",
     "output_type": "stream",
     "text": [
      "     64/100      34.6G     0.6407     0.3477      0.875         50       1280: 100%|██████████| 14/14 [00:09<00:00,  1.44it/s]\n",
      "                 Class     Images  Instances      Box(P          R      mAP50  mAP50-95): 100%|██████████| 3/3 [00:00<00:00,  4.57it/s]\n"
     ]
    },
    {
     "name": "stdout",
     "output_type": "stream",
     "text": [
      "                   all         35        433       0.97      0.946       0.97      0.755\n",
      "\n",
      "      Epoch    GPU_mem   box_loss   cls_loss   dfl_loss  Instances       Size\n"
     ]
    },
    {
     "name": "stderr",
     "output_type": "stream",
     "text": [
      "     65/100      36.3G     0.6682     0.3485     0.8889         17       1280: 100%|██████████| 14/14 [00:09<00:00,  1.42it/s]\n",
      "                 Class     Images  Instances      Box(P          R      mAP50  mAP50-95): 100%|██████████| 3/3 [00:00<00:00,  4.60it/s]\n"
     ]
    },
    {
     "name": "stdout",
     "output_type": "stream",
     "text": [
      "                   all         35        433      0.948      0.952      0.965      0.753\n",
      "\n",
      "      Epoch    GPU_mem   box_loss   cls_loss   dfl_loss  Instances       Size\n"
     ]
    },
    {
     "name": "stderr",
     "output_type": "stream",
     "text": [
      "     66/100      34.3G     0.6495     0.3427     0.8719         55       1280: 100%|██████████| 14/14 [00:09<00:00,  1.45it/s]\n",
      "                 Class     Images  Instances      Box(P          R      mAP50  mAP50-95): 100%|██████████| 3/3 [00:00<00:00,  4.61it/s]\n"
     ]
    },
    {
     "name": "stdout",
     "output_type": "stream",
     "text": [
      "                   all         35        433      0.954      0.955      0.969      0.743\n",
      "\n",
      "      Epoch    GPU_mem   box_loss   cls_loss   dfl_loss  Instances       Size\n"
     ]
    },
    {
     "name": "stderr",
     "output_type": "stream",
     "text": [
      "     67/100      36.3G     0.6426     0.3463     0.8852         46       1280: 100%|██████████| 14/14 [00:09<00:00,  1.45it/s]\n",
      "                 Class     Images  Instances      Box(P          R      mAP50  mAP50-95): 100%|██████████| 3/3 [00:00<00:00,  4.64it/s]\n"
     ]
    },
    {
     "name": "stdout",
     "output_type": "stream",
     "text": [
      "                   all         35        433       0.94       0.94       0.97      0.752\n",
      "\n",
      "      Epoch    GPU_mem   box_loss   cls_loss   dfl_loss  Instances       Size\n"
     ]
    },
    {
     "name": "stderr",
     "output_type": "stream",
     "text": [
      "     68/100      34.4G     0.6458     0.3358     0.8643         98       1280: 100%|██████████| 14/14 [00:09<00:00,  1.43it/s]\n",
      "                 Class     Images  Instances      Box(P          R      mAP50  mAP50-95): 100%|██████████| 3/3 [00:00<00:00,  4.14it/s]\n"
     ]
    },
    {
     "name": "stdout",
     "output_type": "stream",
     "text": [
      "                   all         35        433      0.951      0.963      0.968      0.762\n",
      "\n",
      "      Epoch    GPU_mem   box_loss   cls_loss   dfl_loss  Instances       Size\n"
     ]
    },
    {
     "name": "stderr",
     "output_type": "stream",
     "text": [
      "     69/100        36G     0.6546     0.3506     0.8747         34       1280: 100%|██████████| 14/14 [00:09<00:00,  1.44it/s]\n",
      "                 Class     Images  Instances      Box(P          R      mAP50  mAP50-95): 100%|██████████| 3/3 [00:00<00:00,  4.61it/s]\n"
     ]
    },
    {
     "name": "stdout",
     "output_type": "stream",
     "text": [
      "                   all         35        433       0.94       0.96       0.97      0.768\n",
      "\n",
      "      Epoch    GPU_mem   box_loss   cls_loss   dfl_loss  Instances       Size\n"
     ]
    },
    {
     "name": "stderr",
     "output_type": "stream",
     "text": [
      "     70/100      34.4G     0.6456     0.3396     0.8802        104       1280: 100%|██████████| 14/14 [00:09<00:00,  1.45it/s]\n",
      "                 Class     Images  Instances      Box(P          R      mAP50  mAP50-95): 100%|██████████| 3/3 [00:00<00:00,  4.63it/s]\n"
     ]
    },
    {
     "name": "stdout",
     "output_type": "stream",
     "text": [
      "                   all         35        433      0.913      0.962      0.967      0.765\n",
      "\n",
      "      Epoch    GPU_mem   box_loss   cls_loss   dfl_loss  Instances       Size\n"
     ]
    },
    {
     "name": "stderr",
     "output_type": "stream",
     "text": [
      "     71/100      36.2G     0.6312      0.334     0.8702         74       1280: 100%|██████████| 14/14 [00:09<00:00,  1.44it/s]\n",
      "                 Class     Images  Instances      Box(P          R      mAP50  mAP50-95): 100%|██████████| 3/3 [00:00<00:00,  4.60it/s]\n"
     ]
    },
    {
     "name": "stdout",
     "output_type": "stream",
     "text": [
      "                   all         35        433      0.943      0.965      0.973      0.755\n",
      "\n",
      "      Epoch    GPU_mem   box_loss   cls_loss   dfl_loss  Instances       Size\n"
     ]
    },
    {
     "name": "stderr",
     "output_type": "stream",
     "text": [
      "     72/100      34.3G     0.6309     0.3451     0.8851         44       1280: 100%|██████████| 14/14 [00:09<00:00,  1.42it/s]\n",
      "                 Class     Images  Instances      Box(P          R      mAP50  mAP50-95): 100%|██████████| 3/3 [00:00<00:00,  4.61it/s]\n"
     ]
    },
    {
     "name": "stdout",
     "output_type": "stream",
     "text": [
      "                   all         35        433      0.963      0.924      0.961      0.748\n",
      "\n",
      "      Epoch    GPU_mem   box_loss   cls_loss   dfl_loss  Instances       Size\n"
     ]
    },
    {
     "name": "stderr",
     "output_type": "stream",
     "text": [
      "     73/100      35.8G     0.6249      0.331     0.8747         24       1280: 100%|██████████| 14/14 [00:09<00:00,  1.45it/s]\n",
      "                 Class     Images  Instances      Box(P          R      mAP50  mAP50-95): 100%|██████████| 3/3 [00:00<00:00,  4.62it/s]\n"
     ]
    },
    {
     "name": "stdout",
     "output_type": "stream",
     "text": [
      "                   all         35        433       0.95      0.953      0.974      0.751\n",
      "\n",
      "      Epoch    GPU_mem   box_loss   cls_loss   dfl_loss  Instances       Size\n"
     ]
    },
    {
     "name": "stderr",
     "output_type": "stream",
     "text": [
      "     74/100      34.4G     0.6169     0.3147     0.8705         50       1280: 100%|██████████| 14/14 [00:09<00:00,  1.45it/s]\n",
      "                 Class     Images  Instances      Box(P          R      mAP50  mAP50-95): 100%|██████████| 3/3 [00:00<00:00,  4.60it/s]\n"
     ]
    },
    {
     "name": "stdout",
     "output_type": "stream",
     "text": [
      "                   all         35        433      0.972      0.956      0.975      0.762\n",
      "\n",
      "      Epoch    GPU_mem   box_loss   cls_loss   dfl_loss  Instances       Size\n"
     ]
    },
    {
     "name": "stderr",
     "output_type": "stream",
     "text": [
      "     75/100      35.9G     0.6346     0.3558     0.8789         48       1280: 100%|██████████| 14/14 [00:09<00:00,  1.43it/s]\n",
      "                 Class     Images  Instances      Box(P          R      mAP50  mAP50-95): 100%|██████████| 3/3 [00:00<00:00,  4.28it/s]\n"
     ]
    },
    {
     "name": "stdout",
     "output_type": "stream",
     "text": [
      "                   all         35        433      0.976      0.949      0.971      0.759\n",
      "\n",
      "      Epoch    GPU_mem   box_loss   cls_loss   dfl_loss  Instances       Size\n"
     ]
    },
    {
     "name": "stderr",
     "output_type": "stream",
     "text": [
      "     76/100      34.2G       0.62     0.3275     0.8606         70       1280: 100%|██████████| 14/14 [00:09<00:00,  1.44it/s]\n",
      "                 Class     Images  Instances      Box(P          R      mAP50  mAP50-95): 100%|██████████| 3/3 [00:00<00:00,  4.63it/s]\n"
     ]
    },
    {
     "name": "stdout",
     "output_type": "stream",
     "text": [
      "                   all         35        433       0.97      0.947       0.97       0.75\n",
      "\n",
      "      Epoch    GPU_mem   box_loss   cls_loss   dfl_loss  Instances       Size\n"
     ]
    },
    {
     "name": "stderr",
     "output_type": "stream",
     "text": [
      "     77/100        36G     0.6206      0.324      0.879         79       1280: 100%|██████████| 14/14 [00:09<00:00,  1.45it/s]\n",
      "                 Class     Images  Instances      Box(P          R      mAP50  mAP50-95): 100%|██████████| 3/3 [00:00<00:00,  4.60it/s]\n"
     ]
    },
    {
     "name": "stdout",
     "output_type": "stream",
     "text": [
      "                   all         35        433      0.975       0.95      0.971       0.75\n",
      "\n",
      "      Epoch    GPU_mem   box_loss   cls_loss   dfl_loss  Instances       Size\n"
     ]
    },
    {
     "name": "stderr",
     "output_type": "stream",
     "text": [
      "     78/100      34.7G     0.6247     0.3227      0.865        155       1280: 100%|██████████| 14/14 [00:09<00:00,  1.45it/s]\n",
      "                 Class     Images  Instances      Box(P          R      mAP50  mAP50-95): 100%|██████████| 3/3 [00:00<00:00,  4.37it/s]\n"
     ]
    },
    {
     "name": "stdout",
     "output_type": "stream",
     "text": [
      "                   all         35        433       0.95      0.938      0.967      0.754\n",
      "\n",
      "      Epoch    GPU_mem   box_loss   cls_loss   dfl_loss  Instances       Size\n"
     ]
    },
    {
     "name": "stderr",
     "output_type": "stream",
     "text": [
      "     79/100      35.9G     0.6087     0.3192     0.8463         27       1280: 100%|██████████| 14/14 [00:09<00:00,  1.43it/s]\n",
      "                 Class     Images  Instances      Box(P          R      mAP50  mAP50-95): 100%|██████████| 3/3 [00:00<00:00,  4.62it/s]\n"
     ]
    },
    {
     "name": "stdout",
     "output_type": "stream",
     "text": [
      "                   all         35        433      0.938       0.94      0.968      0.755\n",
      "\n",
      "      Epoch    GPU_mem   box_loss   cls_loss   dfl_loss  Instances       Size\n"
     ]
    },
    {
     "name": "stderr",
     "output_type": "stream",
     "text": [
      "     80/100      34.4G     0.6028     0.3092     0.8509         93       1280: 100%|██████████| 14/14 [00:09<00:00,  1.45it/s]\n",
      "                 Class     Images  Instances      Box(P          R      mAP50  mAP50-95): 100%|██████████| 3/3 [00:00<00:00,  4.58it/s]\n"
     ]
    },
    {
     "name": "stdout",
     "output_type": "stream",
     "text": [
      "                   all         35        433      0.957      0.939      0.968      0.761\n",
      "\n",
      "      Epoch    GPU_mem   box_loss   cls_loss   dfl_loss  Instances       Size\n"
     ]
    },
    {
     "name": "stderr",
     "output_type": "stream",
     "text": [
      "     81/100        35G     0.5983     0.3121     0.8584         48       1280: 100%|██████████| 14/14 [00:09<00:00,  1.45it/s]\n",
      "                 Class     Images  Instances      Box(P          R      mAP50  mAP50-95): 100%|██████████| 3/3 [00:00<00:00,  4.63it/s]\n"
     ]
    },
    {
     "name": "stdout",
     "output_type": "stream",
     "text": [
      "                   all         35        433      0.935      0.941      0.969      0.763\n",
      "\n",
      "      Epoch    GPU_mem   box_loss   cls_loss   dfl_loss  Instances       Size\n"
     ]
    },
    {
     "name": "stderr",
     "output_type": "stream",
     "text": [
      "     82/100      34.4G     0.6058     0.3098     0.8576        125       1280: 100%|██████████| 14/14 [00:09<00:00,  1.42it/s]\n",
      "                 Class     Images  Instances      Box(P          R      mAP50  mAP50-95): 100%|██████████| 3/3 [00:00<00:00,  4.25it/s]\n"
     ]
    },
    {
     "name": "stdout",
     "output_type": "stream",
     "text": [
      "                   all         35        433      0.949      0.954      0.969      0.761\n",
      "\n",
      "      Epoch    GPU_mem   box_loss   cls_loss   dfl_loss  Instances       Size\n"
     ]
    },
    {
     "name": "stderr",
     "output_type": "stream",
     "text": [
      "     83/100      35.9G     0.5832     0.3065     0.8545         96       1280: 100%|██████████| 14/14 [00:09<00:00,  1.46it/s]\n",
      "                 Class     Images  Instances      Box(P          R      mAP50  mAP50-95): 100%|██████████| 3/3 [00:00<00:00,  4.57it/s]\n"
     ]
    },
    {
     "name": "stdout",
     "output_type": "stream",
     "text": [
      "                   all         35        433      0.957      0.932      0.964      0.759\n",
      "\n",
      "      Epoch    GPU_mem   box_loss   cls_loss   dfl_loss  Instances       Size\n"
     ]
    },
    {
     "name": "stderr",
     "output_type": "stream",
     "text": [
      "     84/100      34.8G     0.5906     0.2989     0.8552         29       1280: 100%|██████████| 14/14 [00:09<00:00,  1.45it/s]\n",
      "                 Class     Images  Instances      Box(P          R      mAP50  mAP50-95): 100%|██████████| 3/3 [00:00<00:00,  4.60it/s]\n"
     ]
    },
    {
     "name": "stdout",
     "output_type": "stream",
     "text": [
      "                   all         35        433      0.952      0.944      0.969      0.764\n",
      "\n",
      "      Epoch    GPU_mem   box_loss   cls_loss   dfl_loss  Instances       Size\n"
     ]
    },
    {
     "name": "stderr",
     "output_type": "stream",
     "text": [
      "     85/100        36G     0.5922      0.306     0.8551         70       1280: 100%|██████████| 14/14 [00:09<00:00,  1.45it/s]\n",
      "                 Class     Images  Instances      Box(P          R      mAP50  mAP50-95): 100%|██████████| 3/3 [00:00<00:00,  4.20it/s]\n"
     ]
    },
    {
     "name": "stdout",
     "output_type": "stream",
     "text": [
      "                   all         35        433      0.954      0.958      0.974      0.755\n",
      "\n",
      "      Epoch    GPU_mem   box_loss   cls_loss   dfl_loss  Instances       Size\n"
     ]
    },
    {
     "name": "stderr",
     "output_type": "stream",
     "text": [
      "     86/100      34.8G     0.5693     0.2949       0.85         75       1280: 100%|██████████| 14/14 [00:09<00:00,  1.43it/s]\n",
      "                 Class     Images  Instances      Box(P          R      mAP50  mAP50-95): 100%|██████████| 3/3 [00:00<00:00,  4.56it/s]\n"
     ]
    },
    {
     "name": "stdout",
     "output_type": "stream",
     "text": [
      "                   all         35        433      0.972       0.95      0.974      0.755\n",
      "\n",
      "      Epoch    GPU_mem   box_loss   cls_loss   dfl_loss  Instances       Size\n"
     ]
    },
    {
     "name": "stderr",
     "output_type": "stream",
     "text": [
      "     87/100      35.9G     0.6023     0.3082     0.8574         76       1280: 100%|██████████| 14/14 [00:09<00:00,  1.45it/s]\n",
      "                 Class     Images  Instances      Box(P          R      mAP50  mAP50-95): 100%|██████████| 3/3 [00:00<00:00,  4.61it/s]\n"
     ]
    },
    {
     "name": "stdout",
     "output_type": "stream",
     "text": [
      "                   all         35        433       0.96      0.954      0.976      0.762\n",
      "\n",
      "      Epoch    GPU_mem   box_loss   cls_loss   dfl_loss  Instances       Size\n"
     ]
    },
    {
     "name": "stderr",
     "output_type": "stream",
     "text": [
      "     88/100        34G     0.5831     0.3054     0.8548         62       1280: 100%|██████████| 14/14 [00:09<00:00,  1.44it/s]\n",
      "                 Class     Images  Instances      Box(P          R      mAP50  mAP50-95): 100%|██████████| 3/3 [00:00<00:00,  4.62it/s]\n"
     ]
    },
    {
     "name": "stdout",
     "output_type": "stream",
     "text": [
      "                   all         35        433       0.96      0.959      0.974      0.763\n",
      "\n",
      "      Epoch    GPU_mem   box_loss   cls_loss   dfl_loss  Instances       Size\n"
     ]
    },
    {
     "name": "stderr",
     "output_type": "stream",
     "text": [
      "     89/100      35.9G     0.5579     0.2877     0.8448         72       1280: 100%|██████████| 14/14 [00:09<00:00,  1.42it/s]\n",
      "                 Class     Images  Instances      Box(P          R      mAP50  mAP50-95): 100%|██████████| 3/3 [00:00<00:00,  4.59it/s]\n"
     ]
    },
    {
     "name": "stdout",
     "output_type": "stream",
     "text": [
      "                   all         35        433      0.941      0.947      0.962      0.763\n",
      "\n",
      "      Epoch    GPU_mem   box_loss   cls_loss   dfl_loss  Instances       Size\n"
     ]
    },
    {
     "name": "stderr",
     "output_type": "stream",
     "text": [
      "     90/100      34.2G     0.5806     0.3057     0.8483         98       1280: 100%|██████████| 14/14 [00:09<00:00,  1.45it/s]\n",
      "                 Class     Images  Instances      Box(P          R      mAP50  mAP50-95): 100%|██████████| 3/3 [00:00<00:00,  4.58it/s]\n"
     ]
    },
    {
     "name": "stdout",
     "output_type": "stream",
     "text": [
      "                   all         35        433      0.937      0.947      0.963      0.761\n",
      "Closing dataloader mosaic\n",
      "\n",
      "      Epoch    GPU_mem   box_loss   cls_loss   dfl_loss  Instances       Size\n"
     ]
    },
    {
     "name": "stderr",
     "output_type": "stream",
     "text": [
      "     91/100      36.3G     0.5743     0.3032     0.8661         17       1280: 100%|██████████| 14/14 [00:10<00:00,  1.31it/s]\n",
      "                 Class     Images  Instances      Box(P          R      mAP50  mAP50-95): 100%|██████████| 3/3 [00:00<00:00,  4.59it/s]\n"
     ]
    },
    {
     "name": "stdout",
     "output_type": "stream",
     "text": [
      "                   all         35        433      0.972      0.939      0.973      0.754\n",
      "\n",
      "      Epoch    GPU_mem   box_loss   cls_loss   dfl_loss  Instances       Size\n"
     ]
    },
    {
     "name": "stderr",
     "output_type": "stream",
     "text": [
      "     92/100      34.6G     0.5795     0.2957     0.8664         19       1280: 100%|██████████| 14/14 [00:09<00:00,  1.44it/s]\n",
      "                 Class     Images  Instances      Box(P          R      mAP50  mAP50-95): 100%|██████████| 3/3 [00:00<00:00,  4.28it/s]\n"
     ]
    },
    {
     "name": "stdout",
     "output_type": "stream",
     "text": [
      "                   all         35        433      0.964      0.957      0.974      0.753\n",
      "\n",
      "      Epoch    GPU_mem   box_loss   cls_loss   dfl_loss  Instances       Size\n"
     ]
    },
    {
     "name": "stderr",
     "output_type": "stream",
     "text": [
      "     93/100      36.3G     0.5514     0.2878     0.8345         17       1280: 100%|██████████| 14/14 [00:09<00:00,  1.46it/s]\n",
      "                 Class     Images  Instances      Box(P          R      mAP50  mAP50-95): 100%|██████████| 3/3 [00:00<00:00,  4.62it/s]\n"
     ]
    },
    {
     "name": "stdout",
     "output_type": "stream",
     "text": [
      "                   all         35        433      0.973      0.958      0.976      0.754\n",
      "\n",
      "      Epoch    GPU_mem   box_loss   cls_loss   dfl_loss  Instances       Size\n"
     ]
    },
    {
     "name": "stderr",
     "output_type": "stream",
     "text": [
      "     94/100      34.3G     0.5456     0.2812     0.8378         34       1280: 100%|██████████| 14/14 [00:09<00:00,  1.47it/s]\n",
      "                 Class     Images  Instances      Box(P          R      mAP50  mAP50-95): 100%|██████████| 3/3 [00:00<00:00,  4.58it/s]\n"
     ]
    },
    {
     "name": "stdout",
     "output_type": "stream",
     "text": [
      "                   all         35        433      0.972      0.943      0.975      0.764\n",
      "\n",
      "      Epoch    GPU_mem   box_loss   cls_loss   dfl_loss  Instances       Size\n"
     ]
    },
    {
     "name": "stderr",
     "output_type": "stream",
     "text": [
      "     95/100      35.9G     0.5583     0.2871     0.8497         38       1280: 100%|██████████| 14/14 [00:09<00:00,  1.46it/s]\n",
      "                 Class     Images  Instances      Box(P          R      mAP50  mAP50-95): 100%|██████████| 3/3 [00:00<00:00,  4.56it/s]\n"
     ]
    },
    {
     "name": "stdout",
     "output_type": "stream",
     "text": [
      "                   all         35        433      0.965      0.947      0.975      0.761\n",
      "\n",
      "      Epoch    GPU_mem   box_loss   cls_loss   dfl_loss  Instances       Size\n"
     ]
    },
    {
     "name": "stderr",
     "output_type": "stream",
     "text": [
      "     96/100      34.4G     0.5334     0.2696     0.8517         18       1280: 100%|██████████| 14/14 [00:09<00:00,  1.43it/s]\n",
      "                 Class     Images  Instances      Box(P          R      mAP50  mAP50-95): 100%|██████████| 3/3 [00:00<00:00,  4.42it/s]\n"
     ]
    },
    {
     "name": "stdout",
     "output_type": "stream",
     "text": [
      "                   all         35        433      0.953      0.953      0.975      0.759\n",
      "\n",
      "      Epoch    GPU_mem   box_loss   cls_loss   dfl_loss  Instances       Size\n"
     ]
    },
    {
     "name": "stderr",
     "output_type": "stream",
     "text": [
      "     97/100      36.2G     0.5426     0.2807     0.8466         38       1280: 100%|██████████| 14/14 [00:09<00:00,  1.46it/s]\n",
      "                 Class     Images  Instances      Box(P          R      mAP50  mAP50-95): 100%|██████████| 3/3 [00:00<00:00,  4.62it/s]\n"
     ]
    },
    {
     "name": "stdout",
     "output_type": "stream",
     "text": [
      "                   all         35        433      0.958      0.948      0.974      0.759\n",
      "\n",
      "      Epoch    GPU_mem   box_loss   cls_loss   dfl_loss  Instances       Size\n"
     ]
    },
    {
     "name": "stderr",
     "output_type": "stream",
     "text": [
      "     98/100      34.5G     0.5455     0.2783     0.8576         21       1280: 100%|██████████| 14/14 [00:09<00:00,  1.45it/s]\n",
      "                 Class     Images  Instances      Box(P          R      mAP50  mAP50-95): 100%|██████████| 3/3 [00:00<00:00,  4.56it/s]\n"
     ]
    },
    {
     "name": "stdout",
     "output_type": "stream",
     "text": [
      "                   all         35        433      0.959      0.947      0.975      0.759\n",
      "\n",
      "      Epoch    GPU_mem   box_loss   cls_loss   dfl_loss  Instances       Size\n"
     ]
    },
    {
     "name": "stderr",
     "output_type": "stream",
     "text": [
      "     99/100      36.2G     0.5358     0.2739     0.8335         44       1280: 100%|██████████| 14/14 [00:09<00:00,  1.44it/s]\n",
      "                 Class     Images  Instances      Box(P          R      mAP50  mAP50-95): 100%|██████████| 3/3 [00:00<00:00,  4.25it/s]\n"
     ]
    },
    {
     "name": "stdout",
     "output_type": "stream",
     "text": [
      "                   all         35        433      0.959      0.946      0.974       0.76\n",
      "\n",
      "      Epoch    GPU_mem   box_loss   cls_loss   dfl_loss  Instances       Size\n"
     ]
    },
    {
     "name": "stderr",
     "output_type": "stream",
     "text": [
      "    100/100      34.8G     0.5468     0.2715     0.8414         74       1280: 100%|██████████| 14/14 [00:09<00:00,  1.44it/s]\n",
      "                 Class     Images  Instances      Box(P          R      mAP50  mAP50-95): 100%|██████████| 3/3 [00:00<00:00,  4.61it/s]\n"
     ]
    },
    {
     "name": "stdout",
     "output_type": "stream",
     "text": [
      "                   all         35        433      0.961      0.947      0.975      0.763\n",
      "\n",
      "100 epochs completed in 0.342 hours.\n",
      "Optimizer stripped from /workspace/Laboratory/02.Rapid3DReconstruction/00.workspace/Naju_90m_ChangeDetection_workspace/trial5/YOLO/full_1280/weights/last.pt, 114.5MB\n",
      "Optimizer stripped from /workspace/Laboratory/02.Rapid3DReconstruction/00.workspace/Naju_90m_ChangeDetection_workspace/trial5/YOLO/full_1280/weights/best.pt, 114.5MB\n",
      "\n",
      "Validating /workspace/Laboratory/02.Rapid3DReconstruction/00.workspace/Naju_90m_ChangeDetection_workspace/trial5/YOLO/full_1280/weights/best.pt...\n",
      "Ultralytics 8.3.38 🚀 Python-3.8.20 torch-2.1.0+cu118 CUDA:0 (NVIDIA RTX A6000, 48570MiB)\n",
      "                                                      CUDA:1 (NVIDIA RTX A6000, 48561MiB)\n",
      "YOLO11x summary (fused): 464 layers, 56,840,884 parameters, 0 gradients, 194.5 GFLOPs\n"
     ]
    },
    {
     "name": "stderr",
     "output_type": "stream",
     "text": [
      "                 Class     Images  Instances      Box(P          R      mAP50  mAP50-95): 100%|██████████| 3/3 [00:00<00:00,  4.28it/s]\n"
     ]
    },
    {
     "name": "stdout",
     "output_type": "stream",
     "text": [
      "                   all         35        433      0.941       0.96       0.97      0.766\n",
      "                   car         16         32      0.987          1      0.995      0.892\n",
      "         concrete pipe         12         25      0.866       0.92      0.939      0.828\n",
      "                 crane          4          8      0.796      0.978      0.971      0.626\n",
      "             equipment         20         60      0.972          1      0.995      0.848\n",
      "              facility          9         19      0.976          1      0.995      0.877\n",
      "                 human          7         20      0.928        0.8      0.834      0.405\n",
      "    man-made structure         30         65          1      0.962      0.994      0.668\n",
      "             materials         23        160      0.984      0.963      0.985      0.761\n",
      "                 rocks         19         36      0.946       0.98      0.994      0.844\n",
      "               textile          5          8       0.95          1      0.995      0.911\n",
      "Speed: 0.3ms preprocess, 14.9ms inference, 0.0ms loss, 1.4ms postprocess per image\n",
      "Results saved to \u001b[1m/workspace/Laboratory/02.Rapid3DReconstruction/00.workspace/Naju_90m_ChangeDetection_workspace/trial5/YOLO/full_1280\u001b[0m\n"
     ]
    }
   ],
   "source": [
    "from ultralytics import YOLO\n",
    "# YOLO 모델 학습\n",
    "yaml_path = \"/workspace/Data/240617_NajooGwangjoo/object_detection_dataset/earthwork_90m_nerf_cd_pair/split/data.yaml\"\n",
    "model = YOLO(\"/workspace/Laboratory/04.model/yolo/yolo11x.pt\") # yolo11x-based\n",
    "project_path = \"/workspace/Laboratory/02.Rapid3DReconstruction/00.workspace/Naju_90m_ChangeDetection_workspace/trial5/YOLO\"\n",
    "is_resume = False\n",
    "name = \"full_1280\"\n",
    " \n",
    "results = model.train(data=yaml_path, epochs=100, imgsz=1280, device=[0, 1], pretrained=True, project=project_path, name = name, resume = is_resume)"
   ]
  },
  {
   "cell_type": "code",
   "execution_count": 11,
   "metadata": {},
   "outputs": [
    {
     "name": "stdout",
     "output_type": "stream",
     "text": [
      "\n",
      "0: 384x640 1 clutter, 7 equipmentss, 5 man-made structures, 17 materialss, 1 puddle, 3 rockss, 68.2ms\n",
      "Speed: 25.8ms preprocess, 68.2ms inference, 5.0ms postprocess per image at shape (1, 3, 384, 640)\n"
     ]
    },
    {
     "data": {
      "text/plain": [
       "True"
      ]
     },
     "execution_count": 11,
     "metadata": {},
     "output_type": "execute_result"
    }
   ],
   "source": [
    "import cv2\n",
    "import numpy as np\n",
    "from ultralytics import YOLO\n",
    "from collections import defaultdict\n",
    "\n",
    "class_dict = {\n",
    "    \"concrete pipe\": \"materials\",\n",
    "    \"concrete structure\": \"structure\",\n",
    "    \"equipment\": \"equipment\",\n",
    "    \"materials\": \"materials\",\n",
    "    \"materials package\": \"materials\",\n",
    "    \"rocks\": \"materials\",\n",
    "    \"steel package\": \"materials\",\n",
    "    \"textile\": \"materials\"\n",
    "}\n",
    "\n",
    "def sliding_window(image, step_size, window_size):\n",
    "    \"\"\"Sliding window generator with adjusted step size for edges.\"\"\"\n",
    "    h, w, _ = image.shape\n",
    "    window_h, window_w = window_size\n",
    "\n",
    "    for y in range(0, h - window_h + 1, step_size):\n",
    "        for x in range(0, w - window_w + 1, step_size):\n",
    "            yield x, y, image[y:y + window_h, x:x + window_w]\n",
    "\n",
    "    # Handle the last window that may not fit within the current step size\n",
    "    if (h - window_h) % step_size != 0:  # If there's space left in the vertical direction        \n",
    "        y = h - window_h\n",
    "        for x in range(0, w - window_w + 1, step_size):\n",
    "            yield x, y, image[y:y + window_h, x:x + window_w]\n",
    "\n",
    "    if (w - window_w) % step_size != 0:  # If there's space left in the horizontal direction                \n",
    "        x = w - window_w\n",
    "        for y in range(0, h - window_h + 1, step_size):\n",
    "            yield x, y, image[y:y + window_h, x:x + window_w]\n",
    "\n",
    "    # Handle the very last corner if step_size is larger than remaining space\n",
    "    if (h - window_h) % step_size != 0 and (w - window_w) % step_size != 0:\n",
    "        yield w - window_w, h - window_h, image[h - window_h:h, w - window_w:w]\n",
    "\n",
    "def perform_detection_on_sliding_window(model, class_names, image, step_size, window_shape):\n",
    "    \"\"\"Run object detection on the window using YOLO model.\"\"\"\n",
    "    \n",
    "    result_image = image.copy()  # This will hold the final image with bounding boxes\n",
    "    all_boxes = defaultdict(list)  # Dictionary to hold boxes per class\n",
    "\n",
    "    # Run the sliding window and process each crop\n",
    "    for x, y, window in sliding_window(image, step_size, window_shape):\n",
    "        # Perform detection on the current window\n",
    "        results  = model(window)\n",
    "                \n",
    "        # Extract the detected bounding boxes and their labels\n",
    "        for result in results[0].boxes.data:  # Results format: [x1_, y1_, x2_, y2_, confidence, class]\n",
    "            x1_, y1_, x2_, y2_, confidence, class_id = result\n",
    "\n",
    "            # Convert to original image coordinates\n",
    "            x1 = int(x1_ + x)\n",
    "            y1 = int(y1_ + y)\n",
    "            w = int(x2_ + x) - x1\n",
    "            h = int(y2_ + y) - y1\n",
    "            \n",
    "            # Store the box coordinates along with confidence and class_id\n",
    "            all_boxes[class_id.item()].append([x1, y1, w, h, confidence.item(), class_id.item()])\n",
    "\n",
    "    # After collecting all boxes, apply NMS per class\n",
    "    for class_id, boxes in all_boxes.items():\n",
    "        # Extract coordinates, scores, and apply NMS\n",
    "        bboxes = [box[:4] for box in boxes]             \n",
    "        scores = [box[4] for box in boxes]\n",
    "        # nms_boxes = apply_nms(bboxes, scores)\n",
    "        nms_boxes = bboxes\n",
    "\n",
    "        # Draw the bounding boxes after NMS on the result image\n",
    "        for idx, box in enumerate(nms_boxes):\n",
    "            x1, y1, w, h = box\n",
    "\n",
    "            color = get_class_color(int(class_id))  \n",
    "\n",
    "                    \n",
    "            cv2.rectangle(result_image, (x1, y1), (x1 + w, y1 + h), color, 2)\n",
    "\n",
    "            # Get the class name and confidence\n",
    "            label = class_names[int(class_id)]  # Convert class_id to integer index for class_names\n",
    "\n",
    "            group_label = class_dict.get(label, label)\n",
    "\n",
    "            confidence = round(scores[idx], 2)\n",
    "            text = f\"{group_label} {confidence}\"\n",
    "\n",
    "            # Draw the class label on the image\n",
    "            cv2.putText(result_image, text, (x1, y1 - 10), cv2.FONT_HERSHEY_SIMPLEX, 0.9, color, 3)\n",
    "\n",
    "    return result_image\n",
    " \n",
    "def perform_detection_on_full_image(model, class_names, image):\n",
    "    \"\"\"Run object detection on the window using YOLO model.\"\"\"\n",
    "    result_image = image.copy()  # This will hold the final image with bounding boxes\n",
    "    all_boxes = defaultdict(list)  # Dictionary to hold boxes per class\n",
    "\n",
    "    # Perform detection on the image\n",
    "    results  = model(image)\n",
    "            \n",
    "    # Extract the detected bounding boxes and their labels\n",
    "    for result in results[0].boxes.data:  # Results format: [x1_, y1_, x2_, y2_, confidence, class]\n",
    "        x1_, y1_, x2_, y2_, confidence, class_id = result\n",
    "\n",
    "        # Convert to original image coordinates\n",
    "        x1 = int(x1_)\n",
    "        y1 = int(y1_)\n",
    "        w = int(x2_) - x1\n",
    "        h = int(y2_) - y1\n",
    "        \n",
    "        # Store the box coordinates along with confidence and class_id\n",
    "        all_boxes[class_id.item()].append([x1, y1, w, h, confidence.item(), class_id.item()])\n",
    "\n",
    "    # After collecting all boxes, apply NMS per class\n",
    "    for class_id, boxes in all_boxes.items():\n",
    "        # Extract coordinates, scores, and apply NMS\n",
    "        bboxes = [box[:4] for box in boxes]             \n",
    "        scores = [box[4] for box in boxes]\n",
    "        # nms_boxes = apply_nms(bboxes, scores)\n",
    "        nms_boxes = bboxes\n",
    "\n",
    "        # Draw the bounding boxes after NMS on the result image\n",
    "        for idx, box in enumerate(nms_boxes):\n",
    "            x1, y1, w, h = box\n",
    "\n",
    "            color = get_class_color(int(class_id))  \n",
    "\n",
    "                    \n",
    "            cv2.rectangle(result_image, (x1, y1), (x1 + w, y1 + h), color, 2)\n",
    "\n",
    "            # Get the class name and confidence\n",
    "            label = class_names[int(class_id)]  # Convert class_id to integer index for class_names\n",
    "\n",
    "            group_label = class_dict.get(label, label)\n",
    "\n",
    "            confidence = round(scores[idx], 2)\n",
    "            text = f\"{group_label} {confidence}\"\n",
    "\n",
    "            # Draw the class label on the image\n",
    "            cv2.putText(result_image, text, (x1, y1 - 10), cv2.FONT_HERSHEY_SIMPLEX, 0.9, color, 3)\n",
    "\n",
    "    return result_image\n",
    "\n",
    "def apply_nms(boxes, scores, threshold=0.7):\n",
    "    \"\"\"Apply Non-Maximum Suppression to the boxes.\"\"\"\n",
    "    \n",
    "    indices = cv2.dnn.NMSBoxes(boxes, scores, score_threshold=0.5, nms_threshold=threshold)\n",
    "    \n",
    "    # Extract surviving boxes (return in [x, y, w, h] format again)\n",
    "    if len(indices) > 0:\n",
    "        indices = indices.flatten()\n",
    "        selected = [boxes[i] for i in indices]\n",
    "        return selected\n",
    "    else:\n",
    "        return []\n",
    "\n",
    "def get_class_color(class_id):\n",
    "    \"\"\"Return a unique color for each class.\"\"\"\n",
    "    colors = [\n",
    "        (255, 0, 0),    # cars - Blue\n",
    "        (0, 255, 0),    # clutter - Green\n",
    "        (0, 0, 255),    # equipments - Red\n",
    "        (255, 255, 0),  # facility - Cyan\n",
    "        (255, 0, 255),  # human - Magenta\n",
    "        (0, 255, 255),  # man-made structure - Yellow\n",
    "        (128, 0, 128),  # materials - Purple\n",
    "        (0, 128, 128),  # puddle - Teal\n",
    "        (128, 128, 0),  # rocks - Olive\n",
    "        (64, 64, 64)    # textile - Gray\n",
    "    ]\n",
    "    return colors[class_id % len(colors)]  # Ensure it doesn't go out of range\n",
    "\n",
    "def process_full_image(image, model, class_names, sliding_window = False, reference_height = 2160, reference_altitude = 90, altitude = 90, step_ratio = 0.5):\n",
    "    \"\"\"Process the full image using sliding window and perform object detection.\"\"\"\n",
    "    height, width, _ = image.shape\n",
    "\n",
    "    if sliding_window:\n",
    "        window_size = int(1280 * height / reference_height * reference_altitude / altitude)\n",
    "        window_shape = (window_size, window_size)\n",
    "        step_size = int(window_size * step_ratio)\n",
    "\n",
    "        result_image = perform_detection_on_sliding_window(model, class_names, image, step_size, window_shape)\n",
    "\n",
    "    else:\n",
    "        result_image = perform_detection_on_full_image(model, class_names, image)\n",
    "\n",
    "    return result_image\n",
    "    \n",
    "    \n",
    "\n",
    "# Load pre-trained YOLO model\n",
    "model = YOLO(\"/workspace/Laboratory/02.Rapid3DReconstruction/00.workspace/Naju_90m_ChangeDetection_workspace/trial5/YOLO/full/weights/best.pt\")\n",
    "\n",
    "# Define class names (you should update this list with the correct class names used in your model)\n",
    "class_names = [\n",
    "    'cars',\n",
    "    'clutter',\n",
    "    'concrete structure',\n",
    "    'equipments',\n",
    "    'facility',\n",
    "    'human',\n",
    "    'man-made structure',\n",
    "    'materials',\n",
    "    'puddle',\n",
    "    'rocks',\n",
    "    'textile'\n",
    "]  # Replace with actual class names\n",
    "\n",
    "# Load the 3840x2160 image\n",
    "image_path = \"/workspace/Laboratory/02.Rapid3DReconstruction/00.workspace/Naju_90m_ChangeDetection_workspace/trial5/CD_PAIR/nerf_cd_pair_rectified/initial_paired_frame_00097.jpg\"\n",
    "image = cv2.imread(image_path)\n",
    "\n",
    "# Perform detection on the full image\n",
    "output_image = process_full_image(image, model, class_names, sliding_window=False)\n",
    "\n",
    "# Save or display the output image with bounding boxes\n",
    "cv2.imwrite(\"/workspace/Data/ObjectDetection/25-1_SCD-CON_Paper/vis/test.jpg\", output_image)\n"
   ]
  },
  {
   "cell_type": "code",
   "execution_count": 18,
   "metadata": {},
   "outputs": [
    {
     "ename": "TypeError",
     "evalue": "'NoneType' object is not iterable",
     "output_type": "error",
     "traceback": [
      "\u001b[0;31m---------------------------------------------------------------------------\u001b[0m",
      "\u001b[0;31mTypeError\u001b[0m                                 Traceback (most recent call last)",
      "Cell \u001b[0;32mIn[18], line 2\u001b[0m\n\u001b[1;32m      1\u001b[0m \u001b[38;5;66;03m# Process results list\u001b[39;00m\n\u001b[0;32m----> 2\u001b[0m \u001b[38;5;28;01mfor\u001b[39;00m result \u001b[38;5;129;01min\u001b[39;00m results:\n\u001b[1;32m      3\u001b[0m     boxes \u001b[38;5;241m=\u001b[39m result\u001b[38;5;241m.\u001b[39mboxes  \u001b[38;5;66;03m# Boxes object for bounding box outputs\u001b[39;00m\n\u001b[1;32m      4\u001b[0m     masks \u001b[38;5;241m=\u001b[39m result\u001b[38;5;241m.\u001b[39mmasks  \u001b[38;5;66;03m# Masks object for segmentation masks outputs\u001b[39;00m\n",
      "\u001b[0;31mTypeError\u001b[0m: 'NoneType' object is not iterable"
     ]
    }
   ],
   "source": [
    "# Process results list\n",
    "for result in results:\n",
    "    boxes = result.boxes  # Boxes object for bounding box outputs\n",
    "    masks = result.masks  # Masks object for segmentation masks outputs\n",
    "    keypoints = result.keypoints  # Keypoints object for pose outputs\n",
    "    probs = result.probs  # Probs object for classification outputs\n",
    "    obb = result.obb  # Oriented boxes object for OBB outputs\n",
    "    result.show()  # display to screen"
   ]
  }
 ],
 "metadata": {
  "kernelspec": {
   "display_name": "grounded-cd",
   "language": "python",
   "name": "python3"
  },
  "language_info": {
   "codemirror_mode": {
    "name": "ipython",
    "version": 3
   },
   "file_extension": ".py",
   "mimetype": "text/x-python",
   "name": "python",
   "nbconvert_exporter": "python",
   "pygments_lexer": "ipython3",
   "version": "3.8.20"
  }
 },
 "nbformat": 4,
 "nbformat_minor": 2
}
